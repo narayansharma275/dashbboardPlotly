{
 "cells": [
  {
   "cell_type": "markdown",
   "metadata": {
    "id": "a1LG3FJEtCaU"
   },
   "source": [
    "### Here, we will create a Jupyter Notebook that fetches live data, builds an interactive plot and then deploy it as a live dashboard."
   ]
  },
  {
   "cell_type": "markdown",
   "metadata": {
    "id": "lkgbSRSFtPbi"
   },
   "source": [
    "We will use Reddit as the source of data for our dashboard using the pushshift api"
   ]
  },
  {
   "cell_type": "code",
   "execution_count": 1,
   "metadata": {
    "colab": {
     "base_uri": "https://localhost:8080/",
     "height": 17
    },
    "id": "tlMBIiJzwY72",
    "outputId": "b7863253-d974-485a-a3bd-8523de2a896d"
   },
   "outputs": [
    {
     "data": {
      "text/html": [
       "        <script type=\"text/javascript\">\n",
       "        window.PlotlyConfig = {MathJaxConfig: 'local'};\n",
       "        if (window.MathJax) {MathJax.Hub.Config({SVG: {font: \"STIX-Web\"}});}\n",
       "        if (typeof require !== 'undefined') {\n",
       "        require.undef(\"plotly\");\n",
       "        requirejs.config({\n",
       "            paths: {\n",
       "                'plotly': ['https://cdn.plot.ly/plotly-latest.min']\n",
       "            }\n",
       "        });\n",
       "        require(['plotly'], function(Plotly) {\n",
       "            window._Plotly = Plotly;\n",
       "        });\n",
       "        }\n",
       "        </script>\n",
       "        "
      ]
     },
     "metadata": {},
     "output_type": "display_data"
    }
   ],
   "source": [
    "import numpy as np\n",
    "import seaborn as sns\n",
    "import pandas as pd\n",
    "import cufflinks as cf \n",
    "import plotly.express as px\n",
    "%matplotlib inline\n",
    "\n",
    "\n",
    "# from plotly.offline import download_plotlyjs, init_notebook_mode, plot, iplot\n",
    "# init_notebook_mode(connected=True)\n",
    "\n",
    "import plotly.graph_objs as go\n",
    "import plotly.io as pio\n",
    "# pio.renderers.default = 'colab'"
   ]
  },
  {
   "cell_type": "code",
   "execution_count": 2,
   "metadata": {
    "colab": {
     "base_uri": "https://localhost:8080/"
    },
    "id": "n2wYG8751oV8",
    "outputId": "e79b2818-e682-4022-ca91-fce2e3c39008"
   },
   "outputs": [],
   "source": [
    "import requests\n",
    "import textblob\n",
    "import nltk\n",
    "# nltk.download('punkt')\n",
    "pd.set_option('display.max_colwidth',None) "
   ]
  },
  {
   "cell_type": "code",
   "execution_count": 3,
   "metadata": {
    "id": "kQrx3Vo9tVmp"
   },
   "outputs": [],
   "source": [
    "import requests \n",
    "#fetch comments mentioning the word Machine Learning\n",
    "url = \"https://api.pushshift.io/reddit/search/comment/?q=machine+learning\"\n",
    "request = requests.get(url)\n",
    "\n",
    "json_response = request.json()"
   ]
  },
  {
   "cell_type": "code",
   "execution_count": 4,
   "metadata": {
    "id": "lm0Tz0eate8r"
   },
   "outputs": [],
   "source": [
    "#function to make this API call automated\n",
    "\n",
    "\n",
    "def get_data(d_type,**kwargs):\n",
    "  \"\"\"\n",
    "    Gets data from the pushshift api.\n",
    "\n",
    "    data_type can be 'comment' or 'submission'\n",
    "    The rest of the args are interpreted as payload.\n",
    "    \"\"\"\n",
    "\n",
    "  base_url = f\"https://api.pushshift.io/reddit/search/{d_type}/\"\n",
    "  payload = kwargs\n",
    "  request= requests.get(base_url, params= payload)\n",
    "  return request.json()\n",
    "\n",
    "def make_clickable(val):\n",
    "    \"\"\"\n",
    "    Makes a pandas column clickable.\n",
    "    \"\"\"\n",
    "    \n",
    "    return '<a href=\"{}\">Link</a>'.format(val)"
   ]
  },
  {
   "cell_type": "code",
   "execution_count": 5,
   "metadata": {
    "colab": {
     "base_uri": "https://localhost:8080/"
    },
    "id": "aM-hccTBudLP",
    "outputId": "e68e7c51-47a2-4219-d096-43fa8bcd4d1d"
   },
   "outputs": [],
   "source": [
    "data_test= get_data(d_type=\"comment\",     # give me comments\n",
    "                   q=\"Machine Learning\",              # that mention 'python'\n",
    "                   after=\"48h\",             # in the last 48 hours\n",
    "                   size=1000,               # maximum 1000 comments\n",
    "                   sort_type=\"score\",       # sort them by score\n",
    "                   sort=\"desc\") "
   ]
  },
  {
   "cell_type": "markdown",
   "metadata": {
    "id": "a3KYSV_XumL4"
   },
   "source": [
    "### Comment activity "
   ]
  },
  {
   "cell_type": "code",
   "execution_count": 6,
   "metadata": {
    "colab": {
     "base_uri": "https://localhost:8080/"
    },
    "id": "XhNimOvQvO8R",
    "outputId": "e0a0742e-e1e7-477f-ee2d-87f3eab8c037"
   },
   "outputs": [
    {
     "data": {
      "text/plain": [
       "subreddit\n",
       "news           5\n",
       "NoNewNormal    4\n",
       "france         4\n",
       "ukpolitics     3\n",
       "datascience    3\n",
       "dtype: int64"
      ]
     },
     "execution_count": 6,
     "metadata": {},
     "output_type": "execute_result"
    }
   ],
   "source": [
    "#in what subreddits does Machine Learning Appear More?\n",
    "\n",
    "#define variable\n",
    "\n",
    "COMMENT_COLOR         = \"blueviolet\"\n",
    "SUBMISSION_COLOR      = \"darkgreen\"\n",
    "TEXT_PREVIEW_SIZE     = 240\n",
    "TERM_OF_INTEREST      = \"Data Science\"\n",
    "SUBREDDIT_OF_INTEREST = \"Data Science\"\n",
    "TIMEFRAME             = \"48h\"\n",
    "\n",
    "\n",
    "data = get_data(d_type=\"comment\", q=TERM_OF_INTEREST, after=TIMEFRAME, size=1000, aggs=\"subreddit\").get(\"data\")\n",
    "\n",
    "df = pd.DataFrame.from_records(data).value_counts(\"subreddit\")[0:10]\n",
    "\n",
    "x = df.keys()\n",
    "y = df.values\n",
    "\n",
    "df.head()                   "
   ]
  },
  {
   "cell_type": "code",
   "execution_count": 7,
   "metadata": {
    "colab": {
     "base_uri": "https://localhost:8080/",
     "height": 517
    },
    "id": "d9vr8tI5wGuI",
    "outputId": "49ac499b-6e37-4cf1-b5c8-02da5be9ba74"
   },
   "outputs": [
    {
     "data": {
      "text/html": [
       "<html>\n",
       "<head><meta charset=\"utf-8\" /></head>\n",
       "<body>\n",
       "    <div>            <script src=\"https://cdnjs.cloudflare.com/ajax/libs/mathjax/2.7.5/MathJax.js?config=TeX-AMS-MML_SVG\"></script><script type=\"text/javascript\">if (window.MathJax) {MathJax.Hub.Config({SVG: {font: \"STIX-Web\"}});}</script>                <script type=\"text/javascript\">window.PlotlyConfig = {MathJaxConfig: 'local'};</script>\n",
       "        <script src=\"https://cdn.plot.ly/plotly-latest.min.js\"></script>                <div id=\"06661b12-2961-4c51-9afa-4e859244c1e5\" class=\"plotly-graph-div\" style=\"height:500px; width:800px;\"></div>            <script type=\"text/javascript\">                                    window.PLOTLYENV=window.PLOTLYENV || {};                                    if (document.getElementById(\"06661b12-2961-4c51-9afa-4e859244c1e5\")) {                    Plotly.newPlot(                        \"06661b12-2961-4c51-9afa-4e859244c1e5\",                        [{\"alignmentgroup\": \"True\", \"hovertemplate\": \"subreddit=%{x}<br>y=%{y}<extra></extra>\", \"legendgroup\": \"\", \"marker\": {\"color\": \"blueviolet\"}, \"name\": \"\", \"offsetgroup\": \"\", \"orientation\": \"v\", \"showlegend\": false, \"textposition\": \"auto\", \"type\": \"bar\", \"x\": [\"news\", \"NoNewNormal\", \"france\", \"ukpolitics\", \"datascience\", \"cscareerquestions\", \"cinematography\", \"CSEducation\", \"learnprogramming\", \"AskReddit\"], \"xaxis\": \"x\", \"y\": [5, 4, 4, 3, 3, 3, 2, 2, 2, 2], \"yaxis\": \"y\"}],                        {\"barmode\": \"relative\", \"height\": 500, \"legend\": {\"tracegroupgap\": 0}, \"template\": {\"data\": {\"bar\": [{\"error_x\": {\"color\": \"#2a3f5f\"}, \"error_y\": {\"color\": \"#2a3f5f\"}, \"marker\": {\"line\": {\"color\": \"#E5ECF6\", \"width\": 0.5}}, \"type\": \"bar\"}], \"barpolar\": [{\"marker\": {\"line\": {\"color\": \"#E5ECF6\", \"width\": 0.5}}, \"type\": \"barpolar\"}], \"carpet\": [{\"aaxis\": {\"endlinecolor\": \"#2a3f5f\", \"gridcolor\": \"white\", \"linecolor\": \"white\", \"minorgridcolor\": \"white\", \"startlinecolor\": \"#2a3f5f\"}, \"baxis\": {\"endlinecolor\": \"#2a3f5f\", \"gridcolor\": \"white\", \"linecolor\": \"white\", \"minorgridcolor\": \"white\", \"startlinecolor\": \"#2a3f5f\"}, \"type\": \"carpet\"}], \"choropleth\": [{\"colorbar\": {\"outlinewidth\": 0, \"ticks\": \"\"}, \"type\": \"choropleth\"}], \"contour\": [{\"colorbar\": {\"outlinewidth\": 0, \"ticks\": \"\"}, \"colorscale\": [[0.0, \"#0d0887\"], [0.1111111111111111, \"#46039f\"], [0.2222222222222222, \"#7201a8\"], [0.3333333333333333, \"#9c179e\"], [0.4444444444444444, \"#bd3786\"], [0.5555555555555556, \"#d8576b\"], [0.6666666666666666, \"#ed7953\"], [0.7777777777777778, \"#fb9f3a\"], [0.8888888888888888, \"#fdca26\"], [1.0, \"#f0f921\"]], \"type\": \"contour\"}], \"contourcarpet\": [{\"colorbar\": {\"outlinewidth\": 0, \"ticks\": \"\"}, \"type\": \"contourcarpet\"}], \"heatmap\": [{\"colorbar\": {\"outlinewidth\": 0, \"ticks\": \"\"}, \"colorscale\": [[0.0, \"#0d0887\"], [0.1111111111111111, \"#46039f\"], [0.2222222222222222, \"#7201a8\"], [0.3333333333333333, \"#9c179e\"], [0.4444444444444444, \"#bd3786\"], [0.5555555555555556, \"#d8576b\"], [0.6666666666666666, \"#ed7953\"], [0.7777777777777778, \"#fb9f3a\"], [0.8888888888888888, \"#fdca26\"], [1.0, \"#f0f921\"]], \"type\": \"heatmap\"}], \"heatmapgl\": [{\"colorbar\": {\"outlinewidth\": 0, \"ticks\": \"\"}, \"colorscale\": [[0.0, \"#0d0887\"], [0.1111111111111111, \"#46039f\"], [0.2222222222222222, \"#7201a8\"], [0.3333333333333333, \"#9c179e\"], [0.4444444444444444, \"#bd3786\"], [0.5555555555555556, \"#d8576b\"], [0.6666666666666666, \"#ed7953\"], [0.7777777777777778, \"#fb9f3a\"], [0.8888888888888888, \"#fdca26\"], [1.0, \"#f0f921\"]], \"type\": \"heatmapgl\"}], \"histogram\": [{\"marker\": {\"colorbar\": {\"outlinewidth\": 0, \"ticks\": \"\"}}, \"type\": \"histogram\"}], \"histogram2d\": [{\"colorbar\": {\"outlinewidth\": 0, \"ticks\": \"\"}, \"colorscale\": [[0.0, \"#0d0887\"], [0.1111111111111111, \"#46039f\"], [0.2222222222222222, \"#7201a8\"], [0.3333333333333333, \"#9c179e\"], [0.4444444444444444, \"#bd3786\"], [0.5555555555555556, \"#d8576b\"], [0.6666666666666666, \"#ed7953\"], [0.7777777777777778, \"#fb9f3a\"], [0.8888888888888888, \"#fdca26\"], [1.0, \"#f0f921\"]], \"type\": \"histogram2d\"}], \"histogram2dcontour\": [{\"colorbar\": {\"outlinewidth\": 0, \"ticks\": \"\"}, \"colorscale\": [[0.0, \"#0d0887\"], [0.1111111111111111, \"#46039f\"], [0.2222222222222222, \"#7201a8\"], [0.3333333333333333, \"#9c179e\"], [0.4444444444444444, \"#bd3786\"], [0.5555555555555556, \"#d8576b\"], [0.6666666666666666, \"#ed7953\"], [0.7777777777777778, \"#fb9f3a\"], [0.8888888888888888, \"#fdca26\"], [1.0, \"#f0f921\"]], \"type\": \"histogram2dcontour\"}], \"mesh3d\": [{\"colorbar\": {\"outlinewidth\": 0, \"ticks\": \"\"}, \"type\": \"mesh3d\"}], \"parcoords\": [{\"line\": {\"colorbar\": {\"outlinewidth\": 0, \"ticks\": \"\"}}, \"type\": \"parcoords\"}], \"pie\": [{\"automargin\": true, \"type\": \"pie\"}], \"scatter\": [{\"marker\": {\"colorbar\": {\"outlinewidth\": 0, \"ticks\": \"\"}}, \"type\": \"scatter\"}], \"scatter3d\": [{\"line\": {\"colorbar\": {\"outlinewidth\": 0, \"ticks\": \"\"}}, \"marker\": {\"colorbar\": {\"outlinewidth\": 0, \"ticks\": \"\"}}, \"type\": \"scatter3d\"}], \"scattercarpet\": [{\"marker\": {\"colorbar\": {\"outlinewidth\": 0, \"ticks\": \"\"}}, \"type\": \"scattercarpet\"}], \"scattergeo\": [{\"marker\": {\"colorbar\": {\"outlinewidth\": 0, \"ticks\": \"\"}}, \"type\": \"scattergeo\"}], \"scattergl\": [{\"marker\": {\"colorbar\": {\"outlinewidth\": 0, \"ticks\": \"\"}}, \"type\": \"scattergl\"}], \"scattermapbox\": [{\"marker\": {\"colorbar\": {\"outlinewidth\": 0, \"ticks\": \"\"}}, \"type\": \"scattermapbox\"}], \"scatterpolar\": [{\"marker\": {\"colorbar\": {\"outlinewidth\": 0, \"ticks\": \"\"}}, \"type\": \"scatterpolar\"}], \"scatterpolargl\": [{\"marker\": {\"colorbar\": {\"outlinewidth\": 0, \"ticks\": \"\"}}, \"type\": \"scatterpolargl\"}], \"scatterternary\": [{\"marker\": {\"colorbar\": {\"outlinewidth\": 0, \"ticks\": \"\"}}, \"type\": \"scatterternary\"}], \"surface\": [{\"colorbar\": {\"outlinewidth\": 0, \"ticks\": \"\"}, \"colorscale\": [[0.0, \"#0d0887\"], [0.1111111111111111, \"#46039f\"], [0.2222222222222222, \"#7201a8\"], [0.3333333333333333, \"#9c179e\"], [0.4444444444444444, \"#bd3786\"], [0.5555555555555556, \"#d8576b\"], [0.6666666666666666, \"#ed7953\"], [0.7777777777777778, \"#fb9f3a\"], [0.8888888888888888, \"#fdca26\"], [1.0, \"#f0f921\"]], \"type\": \"surface\"}], \"table\": [{\"cells\": {\"fill\": {\"color\": \"#EBF0F8\"}, \"line\": {\"color\": \"white\"}}, \"header\": {\"fill\": {\"color\": \"#C8D4E3\"}, \"line\": {\"color\": \"white\"}}, \"type\": \"table\"}]}, \"layout\": {\"annotationdefaults\": {\"arrowcolor\": \"#2a3f5f\", \"arrowhead\": 0, \"arrowwidth\": 1}, \"autotypenumbers\": \"strict\", \"coloraxis\": {\"colorbar\": {\"outlinewidth\": 0, \"ticks\": \"\"}}, \"colorscale\": {\"diverging\": [[0, \"#8e0152\"], [0.1, \"#c51b7d\"], [0.2, \"#de77ae\"], [0.3, \"#f1b6da\"], [0.4, \"#fde0ef\"], [0.5, \"#f7f7f7\"], [0.6, \"#e6f5d0\"], [0.7, \"#b8e186\"], [0.8, \"#7fbc41\"], [0.9, \"#4d9221\"], [1, \"#276419\"]], \"sequential\": [[0.0, \"#0d0887\"], [0.1111111111111111, \"#46039f\"], [0.2222222222222222, \"#7201a8\"], [0.3333333333333333, \"#9c179e\"], [0.4444444444444444, \"#bd3786\"], [0.5555555555555556, \"#d8576b\"], [0.6666666666666666, \"#ed7953\"], [0.7777777777777778, \"#fb9f3a\"], [0.8888888888888888, \"#fdca26\"], [1.0, \"#f0f921\"]], \"sequentialminus\": [[0.0, \"#0d0887\"], [0.1111111111111111, \"#46039f\"], [0.2222222222222222, \"#7201a8\"], [0.3333333333333333, \"#9c179e\"], [0.4444444444444444, \"#bd3786\"], [0.5555555555555556, \"#d8576b\"], [0.6666666666666666, \"#ed7953\"], [0.7777777777777778, \"#fb9f3a\"], [0.8888888888888888, \"#fdca26\"], [1.0, \"#f0f921\"]]}, \"colorway\": [\"#636efa\", \"#EF553B\", \"#00cc96\", \"#ab63fa\", \"#FFA15A\", \"#19d3f3\", \"#FF6692\", \"#B6E880\", \"#FF97FF\", \"#FECB52\"], \"font\": {\"color\": \"#2a3f5f\"}, \"geo\": {\"bgcolor\": \"white\", \"lakecolor\": \"white\", \"landcolor\": \"#E5ECF6\", \"showlakes\": true, \"showland\": true, \"subunitcolor\": \"white\"}, \"hoverlabel\": {\"align\": \"left\"}, \"hovermode\": \"closest\", \"mapbox\": {\"style\": \"light\"}, \"paper_bgcolor\": \"white\", \"plot_bgcolor\": \"#E5ECF6\", \"polar\": {\"angularaxis\": {\"gridcolor\": \"white\", \"linecolor\": \"white\", \"ticks\": \"\"}, \"bgcolor\": \"#E5ECF6\", \"radialaxis\": {\"gridcolor\": \"white\", \"linecolor\": \"white\", \"ticks\": \"\"}}, \"scene\": {\"xaxis\": {\"backgroundcolor\": \"#E5ECF6\", \"gridcolor\": \"white\", \"gridwidth\": 2, \"linecolor\": \"white\", \"showbackground\": true, \"ticks\": \"\", \"zerolinecolor\": \"white\"}, \"yaxis\": {\"backgroundcolor\": \"#E5ECF6\", \"gridcolor\": \"white\", \"gridwidth\": 2, \"linecolor\": \"white\", \"showbackground\": true, \"ticks\": \"\", \"zerolinecolor\": \"white\"}, \"zaxis\": {\"backgroundcolor\": \"#E5ECF6\", \"gridcolor\": \"white\", \"gridwidth\": 2, \"linecolor\": \"white\", \"showbackground\": true, \"ticks\": \"\", \"zerolinecolor\": \"white\"}}, \"shapedefaults\": {\"line\": {\"color\": \"#2a3f5f\"}}, \"ternary\": {\"aaxis\": {\"gridcolor\": \"white\", \"linecolor\": \"white\", \"ticks\": \"\"}, \"baxis\": {\"gridcolor\": \"white\", \"linecolor\": \"white\", \"ticks\": \"\"}, \"bgcolor\": \"#E5ECF6\", \"caxis\": {\"gridcolor\": \"white\", \"linecolor\": \"white\", \"ticks\": \"\"}}, \"title\": {\"x\": 0.05}, \"xaxis\": {\"automargin\": true, \"gridcolor\": \"white\", \"linecolor\": \"white\", \"ticks\": \"\", \"title\": {\"standoff\": 15}, \"zerolinecolor\": \"white\", \"zerolinewidth\": 2}, \"yaxis\": {\"automargin\": true, \"gridcolor\": \"white\", \"linecolor\": \"white\", \"ticks\": \"\", \"title\": {\"standoff\": 15}, \"zerolinecolor\": \"white\", \"zerolinewidth\": 2}}}, \"title\": {\"text\": \"Subreddits with most activity - comments with 'Data Science' in the last 48h\"}, \"width\": 800, \"xaxis\": {\"anchor\": \"y\", \"domain\": [0.0, 1.0], \"title\": {\"text\": \"subreddit\"}}, \"yaxis\": {\"anchor\": \"x\", \"domain\": [0.0, 1.0], \"title\": {\"text\": \"y\"}}},                        {\"responsive\": true}                    ).then(function(){\n",
       "                            \n",
       "var gd = document.getElementById('06661b12-2961-4c51-9afa-4e859244c1e5');\n",
       "var x = new MutationObserver(function (mutations, observer) {{\n",
       "        var display = window.getComputedStyle(gd).display;\n",
       "        if (!display || display === 'none') {{\n",
       "            console.log([gd, 'removed!']);\n",
       "            Plotly.purge(gd);\n",
       "            observer.disconnect();\n",
       "        }}\n",
       "}});\n",
       "\n",
       "// Listen for the removal of the full notebook cells\n",
       "var notebookContainer = gd.closest('#notebook-container');\n",
       "if (notebookContainer) {{\n",
       "    x.observe(notebookContainer, {childList: true});\n",
       "}}\n",
       "\n",
       "// Listen for the clearing of the current output cell\n",
       "var outputEl = gd.closest('.output');\n",
       "if (outputEl) {{\n",
       "    x.observe(outputEl, {childList: true});\n",
       "}}\n",
       "\n",
       "                        })                };                            </script>        </div>\n",
       "</body>\n",
       "</html>"
      ]
     },
     "metadata": {},
     "output_type": "display_data"
    }
   ],
   "source": [
    "fig = px.bar(df,\n",
    "       x=x,\n",
    "       y=y,\n",
    "       title=f\"Subreddits with most activity - comments with '{TERM_OF_INTEREST}' in the last {TIMEFRAME}\",\n",
    "       labels={\"doc_count\": \"# comments\",\"key\": \"Subreddits\"},\n",
    "       color_discrete_sequence=[COMMENT_COLOR],\n",
    "       height=500,\n",
    "       width=800)\n",
    "fig.show() "
   ]
  },
  {
   "cell_type": "markdown",
   "metadata": {
    "id": "LtAvyUIF23YA"
   },
   "source": [
    "### Submission activity"
   ]
  },
  {
   "cell_type": "code",
   "execution_count": 8,
   "metadata": {
    "colab": {
     "base_uri": "https://localhost:8080/",
     "height": 517
    },
    "id": "nrwT5QFkwiUs",
    "outputId": "8b1895b7-eb0d-40e1-a9b5-4ca213217abb"
   },
   "outputs": [
    {
     "data": {
      "text/html": [
       "<html>\n",
       "<head><meta charset=\"utf-8\" /></head>\n",
       "<body>\n",
       "    <div>            <script src=\"https://cdnjs.cloudflare.com/ajax/libs/mathjax/2.7.5/MathJax.js?config=TeX-AMS-MML_SVG\"></script><script type=\"text/javascript\">if (window.MathJax) {MathJax.Hub.Config({SVG: {font: \"STIX-Web\"}});}</script>                <script type=\"text/javascript\">window.PlotlyConfig = {MathJaxConfig: 'local'};</script>\n",
       "        <script src=\"https://cdn.plot.ly/plotly-latest.min.js\"></script>                <div id=\"0038e5f3-e270-4b99-9e8b-e4aa64eb220f\" class=\"plotly-graph-div\" style=\"height:500px; width:800px;\"></div>            <script type=\"text/javascript\">                                    window.PLOTLYENV=window.PLOTLYENV || {};                                    if (document.getElementById(\"0038e5f3-e270-4b99-9e8b-e4aa64eb220f\")) {                    Plotly.newPlot(                        \"0038e5f3-e270-4b99-9e8b-e4aa64eb220f\",                        [{\"alignmentgroup\": \"True\", \"hovertemplate\": \"subreddit=%{x}<br>y=%{y}<extra></extra>\", \"legendgroup\": \"\", \"marker\": {\"color\": \"darkgreen\"}, \"name\": \"\", \"offsetgroup\": \"\", \"orientation\": \"v\", \"showlegend\": false, \"textposition\": \"auto\", \"type\": \"bar\", \"x\": [\"datascience\", \"udemyfreebies\", \"u_sciencedomain\", \"cscareerquestions\", \"gradadmissions\", \"jobbit\", \"DataScienceJobs\", \"u_mayurpande6990\", \"webdev\", \"WGU_CompSci\"], \"xaxis\": \"x\", \"y\": [6, 5, 4, 3, 3, 2, 2, 2, 1, 1], \"yaxis\": \"y\"}],                        {\"barmode\": \"relative\", \"height\": 500, \"legend\": {\"tracegroupgap\": 0}, \"template\": {\"data\": {\"bar\": [{\"error_x\": {\"color\": \"#2a3f5f\"}, \"error_y\": {\"color\": \"#2a3f5f\"}, \"marker\": {\"line\": {\"color\": \"#E5ECF6\", \"width\": 0.5}}, \"type\": \"bar\"}], \"barpolar\": [{\"marker\": {\"line\": {\"color\": \"#E5ECF6\", \"width\": 0.5}}, \"type\": \"barpolar\"}], \"carpet\": [{\"aaxis\": {\"endlinecolor\": \"#2a3f5f\", \"gridcolor\": \"white\", \"linecolor\": \"white\", \"minorgridcolor\": \"white\", \"startlinecolor\": \"#2a3f5f\"}, \"baxis\": {\"endlinecolor\": \"#2a3f5f\", \"gridcolor\": \"white\", \"linecolor\": \"white\", \"minorgridcolor\": \"white\", \"startlinecolor\": \"#2a3f5f\"}, \"type\": \"carpet\"}], \"choropleth\": [{\"colorbar\": {\"outlinewidth\": 0, \"ticks\": \"\"}, \"type\": \"choropleth\"}], \"contour\": [{\"colorbar\": {\"outlinewidth\": 0, \"ticks\": \"\"}, \"colorscale\": [[0.0, \"#0d0887\"], [0.1111111111111111, \"#46039f\"], [0.2222222222222222, \"#7201a8\"], [0.3333333333333333, \"#9c179e\"], [0.4444444444444444, \"#bd3786\"], [0.5555555555555556, \"#d8576b\"], [0.6666666666666666, \"#ed7953\"], [0.7777777777777778, \"#fb9f3a\"], [0.8888888888888888, \"#fdca26\"], [1.0, \"#f0f921\"]], \"type\": \"contour\"}], \"contourcarpet\": [{\"colorbar\": {\"outlinewidth\": 0, \"ticks\": \"\"}, \"type\": \"contourcarpet\"}], \"heatmap\": [{\"colorbar\": {\"outlinewidth\": 0, \"ticks\": \"\"}, \"colorscale\": [[0.0, \"#0d0887\"], [0.1111111111111111, \"#46039f\"], [0.2222222222222222, \"#7201a8\"], [0.3333333333333333, \"#9c179e\"], [0.4444444444444444, \"#bd3786\"], [0.5555555555555556, \"#d8576b\"], [0.6666666666666666, \"#ed7953\"], [0.7777777777777778, \"#fb9f3a\"], [0.8888888888888888, \"#fdca26\"], [1.0, \"#f0f921\"]], \"type\": \"heatmap\"}], \"heatmapgl\": [{\"colorbar\": {\"outlinewidth\": 0, \"ticks\": \"\"}, \"colorscale\": [[0.0, \"#0d0887\"], [0.1111111111111111, \"#46039f\"], [0.2222222222222222, \"#7201a8\"], [0.3333333333333333, \"#9c179e\"], [0.4444444444444444, \"#bd3786\"], [0.5555555555555556, \"#d8576b\"], [0.6666666666666666, \"#ed7953\"], [0.7777777777777778, \"#fb9f3a\"], [0.8888888888888888, \"#fdca26\"], [1.0, \"#f0f921\"]], \"type\": \"heatmapgl\"}], \"histogram\": [{\"marker\": {\"colorbar\": {\"outlinewidth\": 0, \"ticks\": \"\"}}, \"type\": \"histogram\"}], \"histogram2d\": [{\"colorbar\": {\"outlinewidth\": 0, \"ticks\": \"\"}, \"colorscale\": [[0.0, \"#0d0887\"], [0.1111111111111111, \"#46039f\"], [0.2222222222222222, \"#7201a8\"], [0.3333333333333333, \"#9c179e\"], [0.4444444444444444, \"#bd3786\"], [0.5555555555555556, \"#d8576b\"], [0.6666666666666666, \"#ed7953\"], [0.7777777777777778, \"#fb9f3a\"], [0.8888888888888888, \"#fdca26\"], [1.0, \"#f0f921\"]], \"type\": \"histogram2d\"}], \"histogram2dcontour\": [{\"colorbar\": {\"outlinewidth\": 0, \"ticks\": \"\"}, \"colorscale\": [[0.0, \"#0d0887\"], [0.1111111111111111, \"#46039f\"], [0.2222222222222222, \"#7201a8\"], [0.3333333333333333, \"#9c179e\"], [0.4444444444444444, \"#bd3786\"], [0.5555555555555556, \"#d8576b\"], [0.6666666666666666, \"#ed7953\"], [0.7777777777777778, \"#fb9f3a\"], [0.8888888888888888, \"#fdca26\"], [1.0, \"#f0f921\"]], \"type\": \"histogram2dcontour\"}], \"mesh3d\": [{\"colorbar\": {\"outlinewidth\": 0, \"ticks\": \"\"}, \"type\": \"mesh3d\"}], \"parcoords\": [{\"line\": {\"colorbar\": {\"outlinewidth\": 0, \"ticks\": \"\"}}, \"type\": \"parcoords\"}], \"pie\": [{\"automargin\": true, \"type\": \"pie\"}], \"scatter\": [{\"marker\": {\"colorbar\": {\"outlinewidth\": 0, \"ticks\": \"\"}}, \"type\": \"scatter\"}], \"scatter3d\": [{\"line\": {\"colorbar\": {\"outlinewidth\": 0, \"ticks\": \"\"}}, \"marker\": {\"colorbar\": {\"outlinewidth\": 0, \"ticks\": \"\"}}, \"type\": \"scatter3d\"}], \"scattercarpet\": [{\"marker\": {\"colorbar\": {\"outlinewidth\": 0, \"ticks\": \"\"}}, \"type\": \"scattercarpet\"}], \"scattergeo\": [{\"marker\": {\"colorbar\": {\"outlinewidth\": 0, \"ticks\": \"\"}}, \"type\": \"scattergeo\"}], \"scattergl\": [{\"marker\": {\"colorbar\": {\"outlinewidth\": 0, \"ticks\": \"\"}}, \"type\": \"scattergl\"}], \"scattermapbox\": [{\"marker\": {\"colorbar\": {\"outlinewidth\": 0, \"ticks\": \"\"}}, \"type\": \"scattermapbox\"}], \"scatterpolar\": [{\"marker\": {\"colorbar\": {\"outlinewidth\": 0, \"ticks\": \"\"}}, \"type\": \"scatterpolar\"}], \"scatterpolargl\": [{\"marker\": {\"colorbar\": {\"outlinewidth\": 0, \"ticks\": \"\"}}, \"type\": \"scatterpolargl\"}], \"scatterternary\": [{\"marker\": {\"colorbar\": {\"outlinewidth\": 0, \"ticks\": \"\"}}, \"type\": \"scatterternary\"}], \"surface\": [{\"colorbar\": {\"outlinewidth\": 0, \"ticks\": \"\"}, \"colorscale\": [[0.0, \"#0d0887\"], [0.1111111111111111, \"#46039f\"], [0.2222222222222222, \"#7201a8\"], [0.3333333333333333, \"#9c179e\"], [0.4444444444444444, \"#bd3786\"], [0.5555555555555556, \"#d8576b\"], [0.6666666666666666, \"#ed7953\"], [0.7777777777777778, \"#fb9f3a\"], [0.8888888888888888, \"#fdca26\"], [1.0, \"#f0f921\"]], \"type\": \"surface\"}], \"table\": [{\"cells\": {\"fill\": {\"color\": \"#EBF0F8\"}, \"line\": {\"color\": \"white\"}}, \"header\": {\"fill\": {\"color\": \"#C8D4E3\"}, \"line\": {\"color\": \"white\"}}, \"type\": \"table\"}]}, \"layout\": {\"annotationdefaults\": {\"arrowcolor\": \"#2a3f5f\", \"arrowhead\": 0, \"arrowwidth\": 1}, \"autotypenumbers\": \"strict\", \"coloraxis\": {\"colorbar\": {\"outlinewidth\": 0, \"ticks\": \"\"}}, \"colorscale\": {\"diverging\": [[0, \"#8e0152\"], [0.1, \"#c51b7d\"], [0.2, \"#de77ae\"], [0.3, \"#f1b6da\"], [0.4, \"#fde0ef\"], [0.5, \"#f7f7f7\"], [0.6, \"#e6f5d0\"], [0.7, \"#b8e186\"], [0.8, \"#7fbc41\"], [0.9, \"#4d9221\"], [1, \"#276419\"]], \"sequential\": [[0.0, \"#0d0887\"], [0.1111111111111111, \"#46039f\"], [0.2222222222222222, \"#7201a8\"], [0.3333333333333333, \"#9c179e\"], [0.4444444444444444, \"#bd3786\"], [0.5555555555555556, \"#d8576b\"], [0.6666666666666666, \"#ed7953\"], [0.7777777777777778, \"#fb9f3a\"], [0.8888888888888888, \"#fdca26\"], [1.0, \"#f0f921\"]], \"sequentialminus\": [[0.0, \"#0d0887\"], [0.1111111111111111, \"#46039f\"], [0.2222222222222222, \"#7201a8\"], [0.3333333333333333, \"#9c179e\"], [0.4444444444444444, \"#bd3786\"], [0.5555555555555556, \"#d8576b\"], [0.6666666666666666, \"#ed7953\"], [0.7777777777777778, \"#fb9f3a\"], [0.8888888888888888, \"#fdca26\"], [1.0, \"#f0f921\"]]}, \"colorway\": [\"#636efa\", \"#EF553B\", \"#00cc96\", \"#ab63fa\", \"#FFA15A\", \"#19d3f3\", \"#FF6692\", \"#B6E880\", \"#FF97FF\", \"#FECB52\"], \"font\": {\"color\": \"#2a3f5f\"}, \"geo\": {\"bgcolor\": \"white\", \"lakecolor\": \"white\", \"landcolor\": \"#E5ECF6\", \"showlakes\": true, \"showland\": true, \"subunitcolor\": \"white\"}, \"hoverlabel\": {\"align\": \"left\"}, \"hovermode\": \"closest\", \"mapbox\": {\"style\": \"light\"}, \"paper_bgcolor\": \"white\", \"plot_bgcolor\": \"#E5ECF6\", \"polar\": {\"angularaxis\": {\"gridcolor\": \"white\", \"linecolor\": \"white\", \"ticks\": \"\"}, \"bgcolor\": \"#E5ECF6\", \"radialaxis\": {\"gridcolor\": \"white\", \"linecolor\": \"white\", \"ticks\": \"\"}}, \"scene\": {\"xaxis\": {\"backgroundcolor\": \"#E5ECF6\", \"gridcolor\": \"white\", \"gridwidth\": 2, \"linecolor\": \"white\", \"showbackground\": true, \"ticks\": \"\", \"zerolinecolor\": \"white\"}, \"yaxis\": {\"backgroundcolor\": \"#E5ECF6\", \"gridcolor\": \"white\", \"gridwidth\": 2, \"linecolor\": \"white\", \"showbackground\": true, \"ticks\": \"\", \"zerolinecolor\": \"white\"}, \"zaxis\": {\"backgroundcolor\": \"#E5ECF6\", \"gridcolor\": \"white\", \"gridwidth\": 2, \"linecolor\": \"white\", \"showbackground\": true, \"ticks\": \"\", \"zerolinecolor\": \"white\"}}, \"shapedefaults\": {\"line\": {\"color\": \"#2a3f5f\"}}, \"ternary\": {\"aaxis\": {\"gridcolor\": \"white\", \"linecolor\": \"white\", \"ticks\": \"\"}, \"baxis\": {\"gridcolor\": \"white\", \"linecolor\": \"white\", \"ticks\": \"\"}, \"bgcolor\": \"#E5ECF6\", \"caxis\": {\"gridcolor\": \"white\", \"linecolor\": \"white\", \"ticks\": \"\"}}, \"title\": {\"x\": 0.05}, \"xaxis\": {\"automargin\": true, \"gridcolor\": \"white\", \"linecolor\": \"white\", \"ticks\": \"\", \"title\": {\"standoff\": 15}, \"zerolinecolor\": \"white\", \"zerolinewidth\": 2}, \"yaxis\": {\"automargin\": true, \"gridcolor\": \"white\", \"linecolor\": \"white\", \"ticks\": \"\", \"title\": {\"standoff\": 15}, \"zerolinecolor\": \"white\", \"zerolinewidth\": 2}}}, \"title\": {\"text\": \"Subreddits with most activity - submissions with 'Data Science' in the last 48h\"}, \"width\": 800, \"xaxis\": {\"anchor\": \"y\", \"domain\": [0.0, 1.0], \"title\": {\"text\": \"subreddit\"}}, \"yaxis\": {\"anchor\": \"x\", \"domain\": [0.0, 1.0], \"title\": {\"text\": \"y\"}}},                        {\"responsive\": true}                    ).then(function(){\n",
       "                            \n",
       "var gd = document.getElementById('0038e5f3-e270-4b99-9e8b-e4aa64eb220f');\n",
       "var x = new MutationObserver(function (mutations, observer) {{\n",
       "        var display = window.getComputedStyle(gd).display;\n",
       "        if (!display || display === 'none') {{\n",
       "            console.log([gd, 'removed!']);\n",
       "            Plotly.purge(gd);\n",
       "            observer.disconnect();\n",
       "        }}\n",
       "}});\n",
       "\n",
       "// Listen for the removal of the full notebook cells\n",
       "var notebookContainer = gd.closest('#notebook-container');\n",
       "if (notebookContainer) {{\n",
       "    x.observe(notebookContainer, {childList: true});\n",
       "}}\n",
       "\n",
       "// Listen for the clearing of the current output cell\n",
       "var outputEl = gd.closest('.output');\n",
       "if (outputEl) {{\n",
       "    x.observe(outputEl, {childList: true});\n",
       "}}\n",
       "\n",
       "                        })                };                            </script>        </div>\n",
       "</body>\n",
       "</html>"
      ]
     },
     "metadata": {},
     "output_type": "display_data"
    }
   ],
   "source": [
    "data = get_data(d_type=\"submission\", q=TERM_OF_INTEREST, after=TIMEFRAME, size=1000, aggs=\"subreddit\").get(\"data\")\n",
    "\n",
    "df = pd.DataFrame.from_records(data).value_counts(\"subreddit\")[0:10]\n",
    "x = df.keys()\n",
    "y = df.values\n",
    "\n",
    "\n",
    "px.bar(df,\n",
    "       x=x,\n",
    "       y=y,\n",
    "       title=f\"Subreddits with most activity - submissions with '{TERM_OF_INTEREST}' in the last {TIMEFRAME}\",\n",
    "       labels={\"doc_count\": \"# submissions\",\"key\": \"Subreddits\"},\n",
    "       color_discrete_sequence=[SUBMISSION_COLOR],\n",
    "       height=500,\n",
    "       width=800)"
   ]
  },
  {
   "cell_type": "markdown",
   "metadata": {
    "id": "q-n7QxFT3npd"
   },
   "source": [
    "### Most upvoted comments "
   ]
  },
  {
   "cell_type": "code",
   "execution_count": 9,
   "metadata": {
    "colab": {
     "base_uri": "https://localhost:8080/",
     "height": 301
    },
    "id": "ktmYuQt930v8",
    "outputId": "2797d8a1-6c50-4ae1-eaa9-f072c65c8185"
   },
   "outputs": [
    {
     "name": "stdout",
     "output_type": "stream",
     "text": [
      "\n",
      "Top 10 most upvoted comments with 'Data Science' in the past 48h\n",
      "\n"
     ]
    },
    {
     "data": {
      "text/html": [
       "<style  type=\"text/css\" >\n",
       "</style><table id=\"T_49a73938_9839_11eb_beec_3448ed5253eb\" ><thead>    <tr>        <th class=\"blank level0\" ></th>        <th class=\"col_heading level0 col0\" >author</th>        <th class=\"col_heading level0 col1\" >subreddit</th>        <th class=\"col_heading level0 col2\" >score</th>        <th class=\"col_heading level0 col3\" >body</th>        <th class=\"col_heading level0 col4\" >permalink</th>    </tr></thead><tbody>\n",
       "                <tr>\n",
       "                        <th id=\"T_49a73938_9839_11eb_beec_3448ed5253eblevel0_row0\" class=\"row_heading level0 row0\" >0</th>\n",
       "                        <td id=\"T_49a73938_9839_11eb_beec_3448ed5253ebrow0_col0\" class=\"data row0 col0\" >Isz82</td>\n",
       "                        <td id=\"T_49a73938_9839_11eb_beec_3448ed5253ebrow0_col1\" class=\"data row0 col1\" >television</td>\n",
       "                        <td id=\"T_49a73938_9839_11eb_beec_3448ed5253ebrow0_col2\" class=\"data row0 col2\" >27</td>\n",
       "                        <td id=\"T_49a73938_9839_11eb_beec_3448ed5253ebrow0_col3\" class=\"data row0 col3\" >A [link](https://www.livescience.com/46397-science...</td>\n",
       "                        <td id=\"T_49a73938_9839_11eb_beec_3448ed5253ebrow0_col4\" class=\"data row0 col4\" ><a href=\"https://reddit.com/r/television/comments/mlg5pb/jeopardy_falls_to_lowest_ratings_since_holidays/gtmbeft/\">Link</a></td>\n",
       "            </tr>\n",
       "            <tr>\n",
       "                        <th id=\"T_49a73938_9839_11eb_beec_3448ed5253eblevel0_row1\" class=\"row_heading level0 row1\" >1</th>\n",
       "                        <td id=\"T_49a73938_9839_11eb_beec_3448ed5253ebrow1_col0\" class=\"data row1 col0\" >po-handz</td>\n",
       "                        <td id=\"T_49a73938_9839_11eb_beec_3448ed5253ebrow1_col1\" class=\"data row1 col1\" >buildapcsales</td>\n",
       "                        <td id=\"T_49a73938_9839_11eb_beec_3448ed5253ebrow1_col2\" class=\"data row1 col2\" >18</td>\n",
       "                        <td id=\"T_49a73938_9839_11eb_beec_3448ed5253ebrow1_col3\" class=\"data row1 col3\" >As someone who just sold his 1950x for a 10940x, a...</td>\n",
       "                        <td id=\"T_49a73938_9839_11eb_beec_3448ed5253ebrow1_col4\" class=\"data row1 col4\" ><a href=\"https://reddit.com/r/buildapcsales/comments/mllmgo/cpu_intel_10940x10980xe_669899_70100_off_msrp/gtm7w94/\">Link</a></td>\n",
       "            </tr>\n",
       "            <tr>\n",
       "                        <th id=\"T_49a73938_9839_11eb_beec_3448ed5253eblevel0_row2\" class=\"row_heading level0 row2\" >2</th>\n",
       "                        <td id=\"T_49a73938_9839_11eb_beec_3448ed5253ebrow2_col0\" class=\"data row2 col0\" >Sideswipe0009</td>\n",
       "                        <td id=\"T_49a73938_9839_11eb_beec_3448ed5253ebrow2_col1\" class=\"data row2 col1\" >Conservative</td>\n",
       "                        <td id=\"T_49a73938_9839_11eb_beec_3448ed5253ebrow2_col2\" class=\"data row2 col2\" >16</td>\n",
       "                        <td id=\"T_49a73938_9839_11eb_beec_3448ed5253ebrow2_col3\" class=\"data row2 col3\" >&gt;“How did the state determine that seniors were...</td>\n",
       "                        <td id=\"T_49a73938_9839_11eb_beec_3448ed5253ebrow2_col4\" class=\"data row2 col4\" ><a href=\"https://reddit.com/r/Conservative/comments/mm3fm1/what_a_disaster_emails_between_60_minutes_and_ron/gtpx9bu/\">Link</a></td>\n",
       "            </tr>\n",
       "            <tr>\n",
       "                        <th id=\"T_49a73938_9839_11eb_beec_3448ed5253eblevel0_row3\" class=\"row_heading level0 row3\" >3</th>\n",
       "                        <td id=\"T_49a73938_9839_11eb_beec_3448ed5253ebrow3_col0\" class=\"data row3 col0\" >msd483</td>\n",
       "                        <td id=\"T_49a73938_9839_11eb_beec_3448ed5253ebrow3_col1\" class=\"data row3 col1\" >datascience</td>\n",
       "                        <td id=\"T_49a73938_9839_11eb_beec_3448ed5253ebrow3_col2\" class=\"data row3 col2\" >13</td>\n",
       "                        <td id=\"T_49a73938_9839_11eb_beec_3448ed5253ebrow3_col3\" class=\"data row3 col3\" >To add on with the obvious, this isn't a data scie...</td>\n",
       "                        <td id=\"T_49a73938_9839_11eb_beec_3448ed5253ebrow3_col4\" class=\"data row3 col4\" ><a href=\"https://reddit.com/r/datascience/comments/mm7w8r/linkedin_blind_this_sub_is_not_real_life/gtpr074/\">Link</a></td>\n",
       "            </tr>\n",
       "            <tr>\n",
       "                        <th id=\"T_49a73938_9839_11eb_beec_3448ed5253eblevel0_row4\" class=\"row_heading level0 row4\" >4</th>\n",
       "                        <td id=\"T_49a73938_9839_11eb_beec_3448ed5253ebrow4_col0\" class=\"data row4 col0\" >JasonVeritech</td>\n",
       "                        <td id=\"T_49a73938_9839_11eb_beec_3448ed5253ebrow4_col1\" class=\"data row4 col1\" >DaystromInstitute</td>\n",
       "                        <td id=\"T_49a73938_9839_11eb_beec_3448ed5253ebrow4_col2\" class=\"data row4 col2\" >12</td>\n",
       "                        <td id=\"T_49a73938_9839_11eb_beec_3448ed5253ebrow4_col3\" class=\"data row4 col3\" >I'll repost my thoughts from an earlier thread:\n",
       "\n",
       "&...</td>\n",
       "                        <td id=\"T_49a73938_9839_11eb_beec_3448ed5253ebrow4_col4\" class=\"data row4 col4\" ><a href=\"https://reddit.com/r/DaystromInstitute/comments/mld2lw/was_the_ds9_theme_song_actually_a_classic_bajoran/gtkztht/\">Link</a></td>\n",
       "            </tr>\n",
       "            <tr>\n",
       "                        <th id=\"T_49a73938_9839_11eb_beec_3448ed5253eblevel0_row5\" class=\"row_heading level0 row5\" >5</th>\n",
       "                        <td id=\"T_49a73938_9839_11eb_beec_3448ed5253ebrow5_col0\" class=\"data row5 col0\" >darth_faader</td>\n",
       "                        <td id=\"T_49a73938_9839_11eb_beec_3448ed5253ebrow5_col1\" class=\"data row5 col1\" >ABoringDystopia</td>\n",
       "                        <td id=\"T_49a73938_9839_11eb_beec_3448ed5253ebrow5_col2\" class=\"data row5 col2\" >11</td>\n",
       "                        <td id=\"T_49a73938_9839_11eb_beec_3448ed5253ebrow5_col3\" class=\"data row5 col3\" >If you have a formal mechanical engineering educat...</td>\n",
       "                        <td id=\"T_49a73938_9839_11eb_beec_3448ed5253ebrow5_col4\" class=\"data row5 col4\" ><a href=\"https://reddit.com/r/ABoringDystopia/comments/mm8skd/ive_been_unemployed_for_8_months_and_im_ready_to/gtr0762/\">Link</a></td>\n",
       "            </tr>\n",
       "            <tr>\n",
       "                        <th id=\"T_49a73938_9839_11eb_beec_3448ed5253eblevel0_row6\" class=\"row_heading level0 row6\" >6</th>\n",
       "                        <td id=\"T_49a73938_9839_11eb_beec_3448ed5253ebrow6_col0\" class=\"data row6 col0\" >DartmouthSimp</td>\n",
       "                        <td id=\"T_49a73938_9839_11eb_beec_3448ed5253ebrow6_col1\" class=\"data row6 col1\" >ApplyingToCollege</td>\n",
       "                        <td id=\"T_49a73938_9839_11eb_beec_3448ed5253ebrow6_col2\" class=\"data row6 col2\" >11</td>\n",
       "                        <td id=\"T_49a73938_9839_11eb_beec_3448ed5253ebrow6_col3\" class=\"data row6 col3\" >Axis Labels: **✅**\n",
       "\n",
       "Graph Title: **✅**\n",
       "\n",
       "Line of be...</td>\n",
       "                        <td id=\"T_49a73938_9839_11eb_beec_3448ed5253ebrow6_col4\" class=\"data row6 col4\" ><a href=\"https://reddit.com/r/ApplyingToCollege/comments/mm7gbv/i_graphed_dartmouthsimpss_karma_over_time/gtqnmqz/\">Link</a></td>\n",
       "            </tr>\n",
       "            <tr>\n",
       "                        <th id=\"T_49a73938_9839_11eb_beec_3448ed5253eblevel0_row7\" class=\"row_heading level0 row7\" >7</th>\n",
       "                        <td id=\"T_49a73938_9839_11eb_beec_3448ed5253ebrow7_col0\" class=\"data row7 col0\" >hgwellsinsanity</td>\n",
       "                        <td id=\"T_49a73938_9839_11eb_beec_3448ed5253ebrow7_col1\" class=\"data row7 col1\" >CoronavirusMichigan</td>\n",
       "                        <td id=\"T_49a73938_9839_11eb_beec_3448ed5253ebrow7_col2\" class=\"data row7 col2\" >10</td>\n",
       "                        <td id=\"T_49a73938_9839_11eb_beec_3448ed5253ebrow7_col3\" class=\"data row7 col3\" >It's absolutely astonishing given that the Governo...</td>\n",
       "                        <td id=\"T_49a73938_9839_11eb_beec_3448ed5253ebrow7_col4\" class=\"data row7 col4\" ><a href=\"https://reddit.com/r/CoronavirusMichigan/comments/mm799d/cdc_director_wants_stronger_restrictions_in/gtq5snp/\">Link</a></td>\n",
       "            </tr>\n",
       "            <tr>\n",
       "                        <th id=\"T_49a73938_9839_11eb_beec_3448ed5253eblevel0_row8\" class=\"row_heading level0 row8\" >8</th>\n",
       "                        <td id=\"T_49a73938_9839_11eb_beec_3448ed5253ebrow8_col0\" class=\"data row8 col0\" >GandalfsPlumbs</td>\n",
       "                        <td id=\"T_49a73938_9839_11eb_beec_3448ed5253ebrow8_col1\" class=\"data row8 col1\" >dankmemes</td>\n",
       "                        <td id=\"T_49a73938_9839_11eb_beec_3448ed5253ebrow8_col2\" class=\"data row8 col2\" >8</td>\n",
       "                        <td id=\"T_49a73938_9839_11eb_beec_3448ed5253ebrow8_col3\" class=\"data row8 col3\" >In Shintoism, the Emperor was perceived as a divin...</td>\n",
       "                        <td id=\"T_49a73938_9839_11eb_beec_3448ed5253ebrow8_col4\" class=\"data row8 col4\" ><a href=\"https://reddit.com/r/dankmemes/comments/mm2b5w/the_a_train/gtpbsms/\">Link</a></td>\n",
       "            </tr>\n",
       "            <tr>\n",
       "                        <th id=\"T_49a73938_9839_11eb_beec_3448ed5253eblevel0_row9\" class=\"row_heading level0 row9\" >9</th>\n",
       "                        <td id=\"T_49a73938_9839_11eb_beec_3448ed5253ebrow9_col0\" class=\"data row9 col0\" >K0NSPIRACY</td>\n",
       "                        <td id=\"T_49a73938_9839_11eb_beec_3448ed5253ebrow9_col1\" class=\"data row9 col1\" >CODWarzone</td>\n",
       "                        <td id=\"T_49a73938_9839_11eb_beec_3448ed5253ebrow9_col2\" class=\"data row9 col2\" >8</td>\n",
       "                        <td id=\"T_49a73938_9839_11eb_beec_3448ed5253ebrow9_col3\" class=\"data row9 col3\" >No, that’s not the argument I’m trying to make at ...</td>\n",
       "                        <td id=\"T_49a73938_9839_11eb_beec_3448ed5253ebrow9_col4\" class=\"data row9 col4\" ><a href=\"https://reddit.com/r/CODWarzone/comments/mmbs57/the_cold_war_ruined_warzone_narrative_is/gtqmrfg/\">Link</a></td>\n",
       "            </tr>\n",
       "    </tbody></table>"
      ],
      "text/plain": [
       "<pandas.io.formats.style.Styler at 0x2075199b370>"
      ]
     },
     "execution_count": 9,
     "metadata": {},
     "output_type": "execute_result"
    }
   ],
   "source": [
    "data = get_data(d_type=\"comment\", q=TERM_OF_INTEREST, after=TIMEFRAME, size=10, sort_type=\"score\", sort=\"desc\").get(\"data\")\n",
    "\n",
    "df = pd.DataFrame.from_records(data)[[\"author\", \"subreddit\", \"score\", \"body\", \"permalink\"]]\n",
    "\n",
    "# we only keep the first X characters of the body \n",
    "df.body = df.body.str[0:50] + \"...\"\n",
    "\n",
    "# we append the string to all the permalink entries\n",
    "df.permalink = \"https://reddit.com\" + df.permalink.astype(str)\n",
    "\n",
    "\n",
    "print(f\"\\nTop 10 most upvoted comments with '{TERM_OF_INTEREST}' in the past {TIMEFRAME}\\n\")\n",
    "\n",
    "# style the last column to be clickable and print --- using the helper function above\n",
    "df.style.format({'permalink': make_clickable})"
   ]
  },
  {
   "cell_type": "markdown",
   "metadata": {
    "id": "UIv9dFmq4I0W"
   },
   "source": [
    "### Most Commented Submissions\n"
   ]
  },
  {
   "cell_type": "code",
   "execution_count": 10,
   "metadata": {
    "colab": {
     "base_uri": "https://localhost:8080/",
     "height": 454
    },
    "id": "qmydAFME4mON",
    "outputId": "30444e76-49a4-4467-cf86-fcd100b3f863"
   },
   "outputs": [
    {
     "name": "stdout",
     "output_type": "stream",
     "text": [
      "\n",
      "Top 10 most commented submissions with 'Data Science' in the past 48h\n",
      "\n"
     ]
    },
    {
     "data": {
      "text/html": [
       "<style  type=\"text/css\" >\n",
       "</style><table id=\"T_4b44f863_9839_11eb_b98d_3448ed5253eb\" ><thead>    <tr>        <th class=\"blank level0\" ></th>        <th class=\"col_heading level0 col0\" >author</th>        <th class=\"col_heading level0 col1\" >subreddit</th>        <th class=\"col_heading level0 col2\" >num_comments</th>        <th class=\"col_heading level0 col3\" >title</th>        <th class=\"col_heading level0 col4\" >permalink</th>    </tr></thead><tbody>\n",
       "                <tr>\n",
       "                        <th id=\"T_4b44f863_9839_11eb_b98d_3448ed5253eblevel0_row0\" class=\"row_heading level0 row0\" >0</th>\n",
       "                        <td id=\"T_4b44f863_9839_11eb_b98d_3448ed5253ebrow0_col0\" class=\"data row0 col0\" >Ralts_Bloodthorne</td>\n",
       "                        <td id=\"T_4b44f863_9839_11eb_b98d_3448ed5253ebrow0_col1\" class=\"data row0 col1\" >HFY</td>\n",
       "                        <td id=\"T_4b44f863_9839_11eb_b98d_3448ed5253ebrow0_col2\" class=\"data row0 col2\" >135</td>\n",
       "                        <td id=\"T_4b44f863_9839_11eb_b98d_3448ed5253ebrow0_col3\" class=\"data row0 col3\" >First Contact - Non Canon Stuff - Chapter 464...</td>\n",
       "                        <td id=\"T_4b44f863_9839_11eb_b98d_3448ed5253ebrow0_col4\" class=\"data row0 col4\" ><a href=\"https://reddit.com/r/HFY/comments/mluis0/first_contact_non_canon_stuff_chapter_464/\">Link</a></td>\n",
       "            </tr>\n",
       "            <tr>\n",
       "                        <th id=\"T_4b44f863_9839_11eb_b98d_3448ed5253eblevel0_row1\" class=\"row_heading level0 row1\" >1</th>\n",
       "                        <td id=\"T_4b44f863_9839_11eb_b98d_3448ed5253ebrow1_col0\" class=\"data row1 col0\" >DadTheMaskedTerror</td>\n",
       "                        <td id=\"T_4b44f863_9839_11eb_b98d_3448ed5253ebrow1_col1\" class=\"data row1 col1\" >changemyview</td>\n",
       "                        <td id=\"T_4b44f863_9839_11eb_b98d_3448ed5253ebrow1_col2\" class=\"data row1 col2\" >117</td>\n",
       "                        <td id=\"T_4b44f863_9839_11eb_b98d_3448ed5253ebrow1_col3\" class=\"data row1 col3\" >CMV: Investing Advice to Index, Buy &amp; Hold, &amp; Not Time the Market Is Bunk...</td>\n",
       "                        <td id=\"T_4b44f863_9839_11eb_b98d_3448ed5253ebrow1_col4\" class=\"data row1 col4\" ><a href=\"https://reddit.com/r/changemyview/comments/mlrnij/cmv_investing_advice_to_index_buy_hold_not_time/\">Link</a></td>\n",
       "            </tr>\n",
       "            <tr>\n",
       "                        <th id=\"T_4b44f863_9839_11eb_b98d_3448ed5253eblevel0_row2\" class=\"row_heading level0 row2\" >2</th>\n",
       "                        <td id=\"T_4b44f863_9839_11eb_b98d_3448ed5253ebrow2_col0\" class=\"data row2 col0\" >sbdivya</td>\n",
       "                        <td id=\"T_4b44f863_9839_11eb_b98d_3448ed5253ebrow2_col1\" class=\"data row2 col1\" >books</td>\n",
       "                        <td id=\"T_4b44f863_9839_11eb_b98d_3448ed5253ebrow2_col2\" class=\"data row2 col2\" >93</td>\n",
       "                        <td id=\"T_4b44f863_9839_11eb_b98d_3448ed5253ebrow2_col3\" class=\"data row2 col3\" >I am S.B. Divya, science fiction author, Escape Pod co-editor, and data scientist. AMA!...</td>\n",
       "                        <td id=\"T_4b44f863_9839_11eb_b98d_3448ed5253ebrow2_col4\" class=\"data row2 col4\" ><a href=\"https://reddit.com/r/books/comments/mm4mfe/i_am_sb_divya_science_fiction_author_escape_pod/\">Link</a></td>\n",
       "            </tr>\n",
       "            <tr>\n",
       "                        <th id=\"T_4b44f863_9839_11eb_b98d_3448ed5253eblevel0_row3\" class=\"row_heading level0 row3\" >3</th>\n",
       "                        <td id=\"T_4b44f863_9839_11eb_b98d_3448ed5253ebrow3_col0\" class=\"data row3 col0\" >Hydraulicdespotism</td>\n",
       "                        <td id=\"T_4b44f863_9839_11eb_b98d_3448ed5253ebrow3_col1\" class=\"data row3 col1\" >pennystocks</td>\n",
       "                        <td id=\"T_4b44f863_9839_11eb_b98d_3448ed5253ebrow3_col2\" class=\"data row3 col2\" >80</td>\n",
       "                        <td id=\"T_4b44f863_9839_11eb_b98d_3448ed5253ebrow3_col3\" class=\"data row3 col3\" >ReconAfrica ($RECO, $RECAF) - Catalyst - Well #1 complete - company hires Diana McQueen, previous Canadian Minister of Energy...</td>\n",
       "                        <td id=\"T_4b44f863_9839_11eb_b98d_3448ed5253ebrow3_col4\" class=\"data row3 col4\" ><a href=\"https://reddit.com/r/pennystocks/comments/mm38zy/reconafrica_reco_recaf_catalyst_well_1_complete/\">Link</a></td>\n",
       "            </tr>\n",
       "            <tr>\n",
       "                        <th id=\"T_4b44f863_9839_11eb_b98d_3448ed5253eblevel0_row4\" class=\"row_heading level0 row4\" >4</th>\n",
       "                        <td id=\"T_4b44f863_9839_11eb_b98d_3448ed5253ebrow4_col0\" class=\"data row4 col0\" >CertainListen</td>\n",
       "                        <td id=\"T_4b44f863_9839_11eb_b98d_3448ed5253ebrow4_col1\" class=\"data row4 col1\" >computerscience</td>\n",
       "                        <td id=\"T_4b44f863_9839_11eb_b98d_3448ed5253ebrow4_col2\" class=\"data row4 col2\" >79</td>\n",
       "                        <td id=\"T_4b44f863_9839_11eb_b98d_3448ed5253ebrow4_col3\" class=\"data row4 col3\" >Seriously Considering Dropping Out of Computer Science...</td>\n",
       "                        <td id=\"T_4b44f863_9839_11eb_b98d_3448ed5253ebrow4_col4\" class=\"data row4 col4\" ><a href=\"https://reddit.com/r/computerscience/comments/mlzvja/seriously_considering_dropping_out_of_computer/\">Link</a></td>\n",
       "            </tr>\n",
       "            <tr>\n",
       "                        <th id=\"T_4b44f863_9839_11eb_b98d_3448ed5253eblevel0_row5\" class=\"row_heading level0 row5\" >5</th>\n",
       "                        <td id=\"T_4b44f863_9839_11eb_b98d_3448ed5253ebrow5_col0\" class=\"data row5 col0\" >One_Organization_165</td>\n",
       "                        <td id=\"T_4b44f863_9839_11eb_b98d_3448ed5253ebrow5_col1\" class=\"data row5 col1\" >gradadmissions</td>\n",
       "                        <td id=\"T_4b44f863_9839_11eb_b98d_3448ed5253ebrow5_col2\" class=\"data row5 col2\" >72</td>\n",
       "                        <td id=\"T_4b44f863_9839_11eb_b98d_3448ed5253ebrow5_col3\" class=\"data row5 col3\" >Harvard is really poor at Computer Science...</td>\n",
       "                        <td id=\"T_4b44f863_9839_11eb_b98d_3448ed5253ebrow5_col4\" class=\"data row5 col4\" ><a href=\"https://reddit.com/r/gradadmissions/comments/mle2lw/harvard_is_really_poor_at_computer_science/\">Link</a></td>\n",
       "            </tr>\n",
       "            <tr>\n",
       "                        <th id=\"T_4b44f863_9839_11eb_b98d_3448ed5253eblevel0_row6\" class=\"row_heading level0 row6\" >6</th>\n",
       "                        <td id=\"T_4b44f863_9839_11eb_b98d_3448ed5253ebrow6_col0\" class=\"data row6 col0\" >jazzwhiz</td>\n",
       "                        <td id=\"T_4b44f863_9839_11eb_b98d_3448ed5253ebrow6_col1\" class=\"data row6 col1\" >Physics</td>\n",
       "                        <td id=\"T_4b44f863_9839_11eb_b98d_3448ed5253ebrow6_col2\" class=\"data row6 col2\" >70</td>\n",
       "                        <td id=\"T_4b44f863_9839_11eb_b98d_3448ed5253ebrow6_col3\" class=\"data row6 col3\" >When this post is 24h old Fermilab will announce the highly anticipated muon g-2 results in a free public talk. Links and more information inside....</td>\n",
       "                        <td id=\"T_4b44f863_9839_11eb_b98d_3448ed5253ebrow6_col4\" class=\"data row6 col4\" ><a href=\"https://reddit.com/r/Physics/comments/mldhty/when_this_post_is_24h_old_fermilab_will_announce/\">Link</a></td>\n",
       "            </tr>\n",
       "            <tr>\n",
       "                        <th id=\"T_4b44f863_9839_11eb_b98d_3448ed5253eblevel0_row7\" class=\"row_heading level0 row7\" >7</th>\n",
       "                        <td id=\"T_4b44f863_9839_11eb_b98d_3448ed5253ebrow7_col0\" class=\"data row7 col0\" >anothermetaphor</td>\n",
       "                        <td id=\"T_4b44f863_9839_11eb_b98d_3448ed5253ebrow7_col1\" class=\"data row7 col1\" >gis</td>\n",
       "                        <td id=\"T_4b44f863_9839_11eb_b98d_3448ed5253ebrow7_col2\" class=\"data row7 col2\" >38</td>\n",
       "                        <td id=\"T_4b44f863_9839_11eb_b98d_3448ed5253ebrow7_col3\" class=\"data row7 col3\" >What are core elements of a GIS engineer?...</td>\n",
       "                        <td id=\"T_4b44f863_9839_11eb_b98d_3448ed5253ebrow7_col4\" class=\"data row7 col4\" ><a href=\"https://reddit.com/r/gis/comments/mm3rrz/what_are_core_elements_of_a_gis_engineer/\">Link</a></td>\n",
       "            </tr>\n",
       "            <tr>\n",
       "                        <th id=\"T_4b44f863_9839_11eb_b98d_3448ed5253eblevel0_row8\" class=\"row_heading level0 row8\" >8</th>\n",
       "                        <td id=\"T_4b44f863_9839_11eb_b98d_3448ed5253ebrow8_col0\" class=\"data row8 col0\" >CaptainPreposterous</td>\n",
       "                        <td id=\"T_4b44f863_9839_11eb_b98d_3448ed5253ebrow8_col1\" class=\"data row8 col1\" >conspiracy</td>\n",
       "                        <td id=\"T_4b44f863_9839_11eb_b98d_3448ed5253ebrow8_col2\" class=\"data row8 col2\" >38</td>\n",
       "                        <td id=\"T_4b44f863_9839_11eb_b98d_3448ed5253ebrow8_col3\" class=\"data row8 col3\" >Trust science when it comes to the vaccine they say......</td>\n",
       "                        <td id=\"T_4b44f863_9839_11eb_b98d_3448ed5253ebrow8_col4\" class=\"data row8 col4\" ><a href=\"https://reddit.com/r/conspiracy/comments/mle1ge/trust_science_when_it_comes_to_the_vaccine_they/\">Link</a></td>\n",
       "            </tr>\n",
       "            <tr>\n",
       "                        <th id=\"T_4b44f863_9839_11eb_b98d_3448ed5253eblevel0_row9\" class=\"row_heading level0 row9\" >9</th>\n",
       "                        <td id=\"T_4b44f863_9839_11eb_b98d_3448ed5253ebrow9_col0\" class=\"data row9 col0\" >Rizz2305</td>\n",
       "                        <td id=\"T_4b44f863_9839_11eb_b98d_3448ed5253ebrow9_col1\" class=\"data row9 col1\" >ukmedicalcannabis</td>\n",
       "                        <td id=\"T_4b44f863_9839_11eb_b98d_3448ed5253ebrow9_col2\" class=\"data row9 col2\" >33</td>\n",
       "                        <td id=\"T_4b44f863_9839_11eb_b98d_3448ed5253ebrow9_col3\" class=\"data row9 col3\" >Thanks to everyone for keeping my head up, this is the email I have just sent to my local MP, NHS England, NICE and Matt Hancock...</td>\n",
       "                        <td id=\"T_4b44f863_9839_11eb_b98d_3448ed5253ebrow9_col4\" class=\"data row9 col4\" ><a href=\"https://reddit.com/r/ukmedicalcannabis/comments/mlazmw/thanks_to_everyone_for_keeping_my_head_up_this_is/\">Link</a></td>\n",
       "            </tr>\n",
       "    </tbody></table>"
      ],
      "text/plain": [
       "<pandas.io.formats.style.Styler at 0x20749a93730>"
      ]
     },
     "execution_count": 10,
     "metadata": {},
     "output_type": "execute_result"
    }
   ],
   "source": [
    "data = get_data(d_type=\"submission\", q=TERM_OF_INTEREST, after=TIMEFRAME, size=10, sort_type=\"num_comments\", sort=\"desc\").get(\"data\")\n",
    "\n",
    "\n",
    "# to see what columns interest you, simply list(df)\n",
    "df = pd.DataFrame.from_records(data)[[\"author\", \"subreddit\", \"num_comments\", \"title\", \"permalink\"]]\n",
    "\n",
    "# we only keep the first X characters of the body \n",
    "df.title = df.title[0:240] + \"...\"\n",
    "\n",
    "# we append the string to all the permalink entries\n",
    "df.permalink = \"https://reddit.com\" + df.permalink.astype(str)\n",
    "\n",
    "\n",
    "print(f\"\\nTop 10 most commented submissions with '{TERM_OF_INTEREST}' in the past {TIMEFRAME}\\n\")\n",
    "\n",
    "# style the last column to be clickable and print\n",
    "df.style.format({'permalink': make_clickable})"
   ]
  },
  {
   "cell_type": "markdown",
   "metadata": {
    "id": "CmlJsnyq5CPf"
   },
   "source": [
    "### sentiment in /r/python across time"
   ]
  },
  {
   "cell_type": "code",
   "execution_count": 28,
   "metadata": {
    "colab": {
     "base_uri": "https://localhost:8080/",
     "height": 632
    },
    "id": "EqFtrex66kDC",
    "outputId": "f54ac18b-5043-43b9-d0ee-5f86e6f89207"
   },
   "outputs": [
    {
     "name": "stdout",
     "output_type": "stream",
     "text": [
      "Comments with the word Python in the last 48 hours\n"
     ]
    },
    {
     "data": {
      "text/html": [
       "<style  type=\"text/css\" >\n",
       "</style><table id=\"T_9028fddc_983c_11eb_8fc9_3448ed5253eb\" ><thead>    <tr>        <th class=\"blank level0\" ></th>        <th class=\"col_heading level0 col0\" >author</th>        <th class=\"col_heading level0 col1\" >body</th>        <th class=\"col_heading level0 col2\" >created_utc</th>        <th class=\"col_heading level0 col3\" >score</th>        <th class=\"col_heading level0 col4\" >permalink</th>    </tr></thead><tbody>\n",
       "                <tr>\n",
       "                        <th id=\"T_9028fddc_983c_11eb_8fc9_3448ed5253eblevel0_row0\" class=\"row_heading level0 row0\" >0</th>\n",
       "                        <td id=\"T_9028fddc_983c_11eb_8fc9_3448ed5253ebrow0_col0\" class=\"data row0 col0\" >Zomunieo</td>\n",
       "                        <td id=\"T_9028fddc_983c_11eb_8fc9_3448ed5253ebrow0_col1\" class=\"data row0 col1\" >No. All keywords in Python contain no spaces. There's no good reason to break that rule.</td>\n",
       "                        <td id=\"T_9028fddc_983c_11eb_8fc9_3448ed5253ebrow0_col2\" class=\"data row0 col2\" >1617843708</td>\n",
       "                        <td id=\"T_9028fddc_983c_11eb_8fc9_3448ed5253ebrow0_col3\" class=\"data row0 col3\" >11</td>\n",
       "                        <td id=\"T_9028fddc_983c_11eb_8fc9_3448ed5253ebrow0_col4\" class=\"data row0 col4\" ><a href=\"https://reddit.com/r/Python/comments/mmgbin/whats_your_opinion_on_changing_elif_into_else_if/gtr8dk3/\">Link</a></td>\n",
       "            </tr>\n",
       "            <tr>\n",
       "                        <th id=\"T_9028fddc_983c_11eb_8fc9_3448ed5253eblevel0_row1\" class=\"row_heading level0 row1\" >1</th>\n",
       "                        <td id=\"T_9028fddc_983c_11eb_8fc9_3448ed5253ebrow1_col0\" class=\"data row1 col0\" >BigMac3k</td>\n",
       "                        <td id=\"T_9028fddc_983c_11eb_8fc9_3448ed5253ebrow1_col1\" class=\"data row1 col1\" >Let’s see if we can break it!</td>\n",
       "                        <td id=\"T_9028fddc_983c_11eb_8fc9_3448ed5253ebrow1_col2\" class=\"data row1 col2\" >1617746266</td>\n",
       "                        <td id=\"T_9028fddc_983c_11eb_8fc9_3448ed5253ebrow1_col3\" class=\"data row1 col3\" >8</td>\n",
       "                        <td id=\"T_9028fddc_983c_11eb_8fc9_3448ed5253ebrow1_col4\" class=\"data row1 col4\" ><a href=\"https://reddit.com/r/Python/comments/mlmx1k/this_is_a_living_reddit_post_see_the_post_body/gtmc42e/\">Link</a></td>\n",
       "            </tr>\n",
       "            <tr>\n",
       "                        <th id=\"T_9028fddc_983c_11eb_8fc9_3448ed5253eblevel0_row2\" class=\"row_heading level0 row2\" >2</th>\n",
       "                        <td id=\"T_9028fddc_983c_11eb_8fc9_3448ed5253ebrow2_col0\" class=\"data row2 col0\" >tahafyto</td>\n",
       "                        <td id=\"T_9028fddc_983c_11eb_8fc9_3448ed5253ebrow2_col1\" class=\"data row2 col1\" >Super cool! How is this not popular? Sucks that my gpu has only 2 GB vram.</td>\n",
       "                        <td id=\"T_9028fddc_983c_11eb_8fc9_3448ed5253ebrow2_col2\" class=\"data row2 col2\" >1617831454</td>\n",
       "                        <td id=\"T_9028fddc_983c_11eb_8fc9_3448ed5253ebrow2_col3\" class=\"data row2 col3\" >8</td>\n",
       "                        <td id=\"T_9028fddc_983c_11eb_8fc9_3448ed5253ebrow2_col4\" class=\"data row2 col4\" ><a href=\"https://reddit.com/r/Python/comments/mmarp8/voice_cloning_app/gtqjxv2/\">Link</a></td>\n",
       "            </tr>\n",
       "            <tr>\n",
       "                        <th id=\"T_9028fddc_983c_11eb_8fc9_3448ed5253eblevel0_row3\" class=\"row_heading level0 row3\" >3</th>\n",
       "                        <td id=\"T_9028fddc_983c_11eb_8fc9_3448ed5253ebrow3_col0\" class=\"data row3 col0\" >HartzToTheIV</td>\n",
       "                        <td id=\"T_9028fddc_983c_11eb_8fc9_3448ed5253ebrow3_col1\" class=\"data row3 col1\" >As far as I know, some companies have pretty much perfected voice cloning already, but decided against publishing software (I think it was Adobe with some kind of \"voice photoshop\"). You could do some really terrible stuff with it. From a basic security concern to outright criminiality, there's a wide range of uses for this kind of application. If you have seen what deep fakes can do, imagine the same stuff but with real voices. Celebrity porn would be the least of our problems.\n",
       "\n",
       "It's a fascinating technology, and I guess it will become widespread before too long, but I really don't want to be a public speaker in any way when that time comes.</td>\n",
       "                        <td id=\"T_9028fddc_983c_11eb_8fc9_3448ed5253ebrow3_col2\" class=\"data row3 col2\" >1617835069</td>\n",
       "                        <td id=\"T_9028fddc_983c_11eb_8fc9_3448ed5253ebrow3_col3\" class=\"data row3 col3\" >6</td>\n",
       "                        <td id=\"T_9028fddc_983c_11eb_8fc9_3448ed5253ebrow3_col4\" class=\"data row3 col4\" ><a href=\"https://reddit.com/r/Python/comments/mmarp8/voice_cloning_app/gtqrh1h/\">Link</a></td>\n",
       "            </tr>\n",
       "            <tr>\n",
       "                        <th id=\"T_9028fddc_983c_11eb_8fc9_3448ed5253eblevel0_row4\" class=\"row_heading level0 row4\" >4</th>\n",
       "                        <td id=\"T_9028fddc_983c_11eb_8fc9_3448ed5253ebrow4_col0\" class=\"data row4 col0\" >17291</td>\n",
       "                        <td id=\"T_9028fddc_983c_11eb_8fc9_3448ed5253ebrow4_col1\" class=\"data row4 col1\" >    upvoted_submission_comments = sorted(\n",
       "        submission.comments, key=lambda x: x.score, reverse=True\n",
       "    )\n",
       "    downvoted_submission_comments = sorted(submission.comments, key=lambda x: x.score)\n",
       "\n",
       "You shouldn't need to sort the comments twice to get the bottom 5 and top 5. Instead, you could do something like this (some code snipped for brevity):\n",
       "\n",
       "    submission_comments = sorted(submission.comments, key=lambda x: x.score)\n",
       "    for comment in submission_comments[:-6:-1]:\n",
       "        edited_body = edited_body + f\"'{comment.body}',\\n\\n\"\n",
       "    for comment in submission_comments[:5]:\n",
       "        edited_body = edited_body + f\"'{comment.body}',\\n\\n\"</td>\n",
       "                        <td id=\"T_9028fddc_983c_11eb_8fc9_3448ed5253ebrow4_col2\" class=\"data row4 col2\" >1617746768</td>\n",
       "                        <td id=\"T_9028fddc_983c_11eb_8fc9_3448ed5253ebrow4_col3\" class=\"data row4 col3\" >6</td>\n",
       "                        <td id=\"T_9028fddc_983c_11eb_8fc9_3448ed5253ebrow4_col4\" class=\"data row4 col4\" ><a href=\"https://reddit.com/r/Python/comments/mlmx1k/this_is_a_living_reddit_post_see_the_post_body/gtmd5ed/\">Link</a></td>\n",
       "            </tr>\n",
       "            <tr>\n",
       "                        <th id=\"T_9028fddc_983c_11eb_8fc9_3448ed5253eblevel0_row5\" class=\"row_heading level0 row5\" >5</th>\n",
       "                        <td id=\"T_9028fddc_983c_11eb_8fc9_3448ed5253ebrow5_col0\" class=\"data row5 col0\" >swarm_mazer</td>\n",
       "                        <td id=\"T_9028fddc_983c_11eb_8fc9_3448ed5253ebrow5_col1\" class=\"data row5 col1\" >\\n ! ;;; &amp; $()</td>\n",
       "                        <td id=\"T_9028fddc_983c_11eb_8fc9_3448ed5253ebrow5_col2\" class=\"data row5 col2\" >1617747233</td>\n",
       "                        <td id=\"T_9028fddc_983c_11eb_8fc9_3448ed5253ebrow5_col3\" class=\"data row5 col3\" >5</td>\n",
       "                        <td id=\"T_9028fddc_983c_11eb_8fc9_3448ed5253ebrow5_col4\" class=\"data row5 col4\" ><a href=\"https://reddit.com/r/Python/comments/mlmx1k/this_is_a_living_reddit_post_see_the_post_body/gtme2wl/\">Link</a></td>\n",
       "            </tr>\n",
       "            <tr>\n",
       "                        <th id=\"T_9028fddc_983c_11eb_8fc9_3448ed5253eblevel0_row6\" class=\"row_heading level0 row6\" >6</th>\n",
       "                        <td id=\"T_9028fddc_983c_11eb_8fc9_3448ed5253ebrow6_col0\" class=\"data row6 col0\" >joeyGibson</td>\n",
       "                        <td id=\"T_9028fddc_983c_11eb_8fc9_3448ed5253ebrow6_col1\" class=\"data row6 col1\" >I just updooted the post, but the updoot count didn’t change. 😢</td>\n",
       "                        <td id=\"T_9028fddc_983c_11eb_8fc9_3448ed5253ebrow6_col2\" class=\"data row6 col2\" >1617747600</td>\n",
       "                        <td id=\"T_9028fddc_983c_11eb_8fc9_3448ed5253ebrow6_col3\" class=\"data row6 col3\" >5</td>\n",
       "                        <td id=\"T_9028fddc_983c_11eb_8fc9_3448ed5253ebrow6_col4\" class=\"data row6 col4\" ><a href=\"https://reddit.com/r/Python/comments/mlmx1k/this_is_a_living_reddit_post_see_the_post_body/gtmet3d/\">Link</a></td>\n",
       "            </tr>\n",
       "            <tr>\n",
       "                        <th id=\"T_9028fddc_983c_11eb_8fc9_3448ed5253eblevel0_row7\" class=\"row_heading level0 row7\" >7</th>\n",
       "                        <td id=\"T_9028fddc_983c_11eb_8fc9_3448ed5253ebrow7_col0\" class=\"data row7 col0\" >mightymander</td>\n",
       "                        <td id=\"T_9028fddc_983c_11eb_8fc9_3448ed5253ebrow7_col1\" class=\"data row7 col1\" >damm wish it supported amd GPU's</td>\n",
       "                        <td id=\"T_9028fddc_983c_11eb_8fc9_3448ed5253ebrow7_col2\" class=\"data row7 col2\" >1617834969</td>\n",
       "                        <td id=\"T_9028fddc_983c_11eb_8fc9_3448ed5253ebrow7_col3\" class=\"data row7 col3\" >5</td>\n",
       "                        <td id=\"T_9028fddc_983c_11eb_8fc9_3448ed5253ebrow7_col4\" class=\"data row7 col4\" ><a href=\"https://reddit.com/r/Python/comments/mmarp8/voice_cloning_app/gtqr9t7/\">Link</a></td>\n",
       "            </tr>\n",
       "            <tr>\n",
       "                        <th id=\"T_9028fddc_983c_11eb_8fc9_3448ed5253eblevel0_row8\" class=\"row_heading level0 row8\" >8</th>\n",
       "                        <td id=\"T_9028fddc_983c_11eb_8fc9_3448ed5253ebrow8_col0\" class=\"data row8 col0\" >stargazer_w</td>\n",
       "                        <td id=\"T_9028fddc_983c_11eb_8fc9_3448ed5253ebrow8_col1\" class=\"data row8 col1\" >I thought they released an official rocm version resently, but haven't checked it out yet</td>\n",
       "                        <td id=\"T_9028fddc_983c_11eb_8fc9_3448ed5253ebrow8_col2\" class=\"data row8 col2\" >1617836251</td>\n",
       "                        <td id=\"T_9028fddc_983c_11eb_8fc9_3448ed5253ebrow8_col3\" class=\"data row8 col3\" >4</td>\n",
       "                        <td id=\"T_9028fddc_983c_11eb_8fc9_3448ed5253ebrow8_col4\" class=\"data row8 col4\" ><a href=\"https://reddit.com/r/Python/comments/mmarp8/voice_cloning_app/gtqtto8/\">Link</a></td>\n",
       "            </tr>\n",
       "            <tr>\n",
       "                        <th id=\"T_9028fddc_983c_11eb_8fc9_3448ed5253eblevel0_row9\" class=\"row_heading level0 row9\" >9</th>\n",
       "                        <td id=\"T_9028fddc_983c_11eb_8fc9_3448ed5253ebrow9_col0\" class=\"data row9 col0\" >delasislas</td>\n",
       "                        <td id=\"T_9028fddc_983c_11eb_8fc9_3448ed5253ebrow9_col1\" class=\"data row9 col1\" >I don’t know, let’s seen what this can do.</td>\n",
       "                        <td id=\"T_9028fddc_983c_11eb_8fc9_3448ed5253ebrow9_col2\" class=\"data row9 col2\" >1617746103</td>\n",
       "                        <td id=\"T_9028fddc_983c_11eb_8fc9_3448ed5253ebrow9_col3\" class=\"data row9 col3\" >4</td>\n",
       "                        <td id=\"T_9028fddc_983c_11eb_8fc9_3448ed5253ebrow9_col4\" class=\"data row9 col4\" ><a href=\"https://reddit.com/r/Python/comments/mlmx1k/this_is_a_living_reddit_post_see_the_post_body/gtmbrvt/\">Link</a></td>\n",
       "            </tr>\n",
       "    </tbody></table>"
      ],
      "text/plain": [
       "<pandas.io.formats.style.Styler at 0x20752479f10>"
      ]
     },
     "execution_count": 28,
     "metadata": {},
     "output_type": "execute_result"
    }
   ],
   "source": [
    "data = get_data(d_type=\"comment\",\n",
    "                          after=TIMEFRAME,\n",
    "                          size=1000,\n",
    "                          sort_type=\"score\",\n",
    "                          sort=\"desc\",\n",
    "                          subreddit=\"python\").get(\"data\")\n",
    "\n",
    "# define a list of columns we want to keep\n",
    "columns_of_interest = [\"author\", \"body\", \"created_utc\", \"score\", \"permalink\"]\n",
    "print(\"Comments with the word Python in the last 48 hours\")\n",
    "# transform the response into a dataframe\n",
    "df = pd.DataFrame.from_records(data)[columns_of_interest]\n",
    "df.permalink = \"https://reddit.com\" + df.permalink.astype(str)\n",
    "df.iloc[:10].style.format({'permalink': make_clickable})\n"
   ]
  },
  {
   "cell_type": "markdown",
   "metadata": {},
   "source": [
    "### Comments dataset after adding sentiment analysis data"
   ]
  },
  {
   "cell_type": "code",
   "execution_count": 27,
   "metadata": {
    "colab": {
     "base_uri": "https://localhost:8080/",
     "height": 734
    },
    "id": "snqlD-7q8e8U",
    "outputId": "3f7accd5-6833-4daa-8312-ea651ebc7e2c"
   },
   "outputs": [
    {
     "name": "stdout",
     "output_type": "stream",
     "text": [
      "Comments after adding sentiment analysis\n"
     ]
    },
    {
     "data": {
      "text/html": [
       "<div>\n",
       "<style scoped>\n",
       "    .dataframe tbody tr th:only-of-type {\n",
       "        vertical-align: middle;\n",
       "    }\n",
       "\n",
       "    .dataframe tbody tr th {\n",
       "        vertical-align: top;\n",
       "    }\n",
       "\n",
       "    .dataframe thead th {\n",
       "        text-align: right;\n",
       "    }\n",
       "</style>\n",
       "<table border=\"1\" class=\"dataframe\">\n",
       "  <thead>\n",
       "    <tr style=\"text-align: right;\">\n",
       "      <th></th>\n",
       "      <th>author</th>\n",
       "      <th>body</th>\n",
       "      <th>created_utc</th>\n",
       "      <th>score</th>\n",
       "      <th>permalink</th>\n",
       "      <th>sentiment_polarity</th>\n",
       "      <th>sentiment_subjectivity</th>\n",
       "      <th>sentiment</th>\n",
       "      <th>preview</th>\n",
       "      <th>date</th>\n",
       "    </tr>\n",
       "  </thead>\n",
       "  <tbody>\n",
       "    <tr>\n",
       "      <th>0</th>\n",
       "      <td>Zomunieo</td>\n",
       "      <td>No. All keywords in Python contain no spaces. There's no good reason to break that rule.</td>\n",
       "      <td>1617843708</td>\n",
       "      <td>11</td>\n",
       "      <td>https://reddit.com/r/Python/comments/mmgbin/whats_your_opinion_on_changing_elif_into_else_if/gtr8dk3/</td>\n",
       "      <td>-0.350000</td>\n",
       "      <td>0.600000</td>\n",
       "      <td>negative</td>\n",
       "      <td>No. All keywords in Python contain no spaces. Ther</td>\n",
       "      <td>2021-04-08 01:01:48</td>\n",
       "    </tr>\n",
       "    <tr>\n",
       "      <th>1</th>\n",
       "      <td>BigMac3k</td>\n",
       "      <td>Let’s see if we can break it!</td>\n",
       "      <td>1617746266</td>\n",
       "      <td>8</td>\n",
       "      <td>https://reddit.com/r/Python/comments/mlmx1k/this_is_a_living_reddit_post_see_the_post_body/gtmc42e/</td>\n",
       "      <td>0.000000</td>\n",
       "      <td>0.000000</td>\n",
       "      <td>positive</td>\n",
       "      <td>Let’s see if we can break it!</td>\n",
       "      <td>2021-04-06 21:57:46</td>\n",
       "    </tr>\n",
       "    <tr>\n",
       "      <th>2</th>\n",
       "      <td>tahafyto</td>\n",
       "      <td>Super cool! How is this not popular? Sucks that my gpu has only 2 GB vram.</td>\n",
       "      <td>1617831454</td>\n",
       "      <td>8</td>\n",
       "      <td>https://reddit.com/r/Python/comments/mmarp8/voice_cloning_app/gtqjxv2/</td>\n",
       "      <td>0.034167</td>\n",
       "      <td>0.703333</td>\n",
       "      <td>positive</td>\n",
       "      <td>Super cool! How is this not popular? Sucks that my</td>\n",
       "      <td>2021-04-07 21:37:34</td>\n",
       "    </tr>\n",
       "    <tr>\n",
       "      <th>3</th>\n",
       "      <td>HartzToTheIV</td>\n",
       "      <td>As far as I know, some companies have pretty much perfected voice cloning already, but decided against publishing software (I think it was Adobe with some kind of \"voice photoshop\"). You could do some really terrible stuff with it. From a basic security concern to outright criminiality, there's a wide range of uses for this kind of application. If you have seen what deep fakes can do, imagine the same stuff but with real voices. Celebrity porn would be the least of our problems.\\n\\nIt's a fascinating technology, and I guess it will become widespread before too long, but I really don't want to be a public speaker in any way when that time comes.</td>\n",
       "      <td>1617835069</td>\n",
       "      <td>6</td>\n",
       "      <td>https://reddit.com/r/Python/comments/mmarp8/voice_cloning_app/gtqrh1h/</td>\n",
       "      <td>0.087500</td>\n",
       "      <td>0.516667</td>\n",
       "      <td>positive</td>\n",
       "      <td>As far as I know, some companies have pretty much</td>\n",
       "      <td>2021-04-07 22:37:49</td>\n",
       "    </tr>\n",
       "    <tr>\n",
       "      <th>4</th>\n",
       "      <td>17291</td>\n",
       "      <td>upvoted_submission_comments = sorted(\\n        submission.comments, key=lambda x: x.score, reverse=True\\n    )\\n    downvoted_submission_comments = sorted(submission.comments, key=lambda x: x.score)\\n\\nYou shouldn't need to sort the comments twice to get the bottom 5 and top 5. Instead, you could do something like this (some code snipped for brevity):\\n\\n    submission_comments = sorted(submission.comments, key=lambda x: x.score)\\n    for comment in submission_comments[:-6:-1]:\\n        edited_body = edited_body + f\"'{comment.body}',\\n\\n\"\\n    for comment in submission_comments[:5]:\\n        edited_body = edited_body + f\"'{comment.body}',\\n\\n\"</td>\n",
       "      <td>1617746768</td>\n",
       "      <td>6</td>\n",
       "      <td>https://reddit.com/r/Python/comments/mlmx1k/this_is_a_living_reddit_post_see_the_post_body/gtmd5ed/</td>\n",
       "      <td>0.500000</td>\n",
       "      <td>0.500000</td>\n",
       "      <td>positive</td>\n",
       "      <td>upvoted_submission_comments = sorted(\\n</td>\n",
       "      <td>2021-04-06 22:06:08</td>\n",
       "    </tr>\n",
       "    <tr>\n",
       "      <th>5</th>\n",
       "      <td>swarm_mazer</td>\n",
       "      <td>\\n ! ;;; &amp;amp; $()</td>\n",
       "      <td>1617747233</td>\n",
       "      <td>5</td>\n",
       "      <td>https://reddit.com/r/Python/comments/mlmx1k/this_is_a_living_reddit_post_see_the_post_body/gtme2wl/</td>\n",
       "      <td>0.000000</td>\n",
       "      <td>0.000000</td>\n",
       "      <td>positive</td>\n",
       "      <td>\\n ! ;;; &amp;amp; $()</td>\n",
       "      <td>2021-04-06 22:13:53</td>\n",
       "    </tr>\n",
       "    <tr>\n",
       "      <th>6</th>\n",
       "      <td>joeyGibson</td>\n",
       "      <td>I just updooted the post, but the updoot count didn’t change. 😢</td>\n",
       "      <td>1617747600</td>\n",
       "      <td>5</td>\n",
       "      <td>https://reddit.com/r/Python/comments/mlmx1k/this_is_a_living_reddit_post_see_the_post_body/gtmet3d/</td>\n",
       "      <td>0.000000</td>\n",
       "      <td>0.000000</td>\n",
       "      <td>positive</td>\n",
       "      <td>I just updooted the post, but the updoot count did</td>\n",
       "      <td>2021-04-06 22:20:00</td>\n",
       "    </tr>\n",
       "    <tr>\n",
       "      <th>7</th>\n",
       "      <td>mightymander</td>\n",
       "      <td>damm wish it supported amd GPU's</td>\n",
       "      <td>1617834969</td>\n",
       "      <td>5</td>\n",
       "      <td>https://reddit.com/r/Python/comments/mmarp8/voice_cloning_app/gtqr9t7/</td>\n",
       "      <td>0.000000</td>\n",
       "      <td>0.000000</td>\n",
       "      <td>positive</td>\n",
       "      <td>damm wish it supported amd GPU's</td>\n",
       "      <td>2021-04-07 22:36:09</td>\n",
       "    </tr>\n",
       "    <tr>\n",
       "      <th>8</th>\n",
       "      <td>stargazer_w</td>\n",
       "      <td>I thought they released an official rocm version resently, but haven't checked it out yet</td>\n",
       "      <td>1617836251</td>\n",
       "      <td>4</td>\n",
       "      <td>https://reddit.com/r/Python/comments/mmarp8/voice_cloning_app/gtqtto8/</td>\n",
       "      <td>0.000000</td>\n",
       "      <td>0.000000</td>\n",
       "      <td>positive</td>\n",
       "      <td>I thought they released an official rocm version r</td>\n",
       "      <td>2021-04-07 22:57:31</td>\n",
       "    </tr>\n",
       "    <tr>\n",
       "      <th>9</th>\n",
       "      <td>delasislas</td>\n",
       "      <td>I don’t know, let’s seen what this can do.</td>\n",
       "      <td>1617746103</td>\n",
       "      <td>4</td>\n",
       "      <td>https://reddit.com/r/Python/comments/mlmx1k/this_is_a_living_reddit_post_see_the_post_body/gtmbrvt/</td>\n",
       "      <td>0.000000</td>\n",
       "      <td>0.000000</td>\n",
       "      <td>positive</td>\n",
       "      <td>I don’t know, let’s seen what this can do.</td>\n",
       "      <td>2021-04-06 21:55:03</td>\n",
       "    </tr>\n",
       "  </tbody>\n",
       "</table>\n",
       "</div>"
      ],
      "text/plain": [
       "         author  \\\n",
       "0      Zomunieo   \n",
       "1      BigMac3k   \n",
       "2      tahafyto   \n",
       "3  HartzToTheIV   \n",
       "4         17291   \n",
       "5   swarm_mazer   \n",
       "6    joeyGibson   \n",
       "7  mightymander   \n",
       "8   stargazer_w   \n",
       "9    delasislas   \n",
       "\n",
       "                                                                                                                                                                                                                                                                                                                                                                                                                                                                                                                                                                                                                                                                              body  \\\n",
       "0                                                                                                                                                                                                                                                                                                                                                                                                                                                                                                                                                                                         No. All keywords in Python contain no spaces. There's no good reason to break that rule.   \n",
       "1                                                                                                                                                                                                                                                                                                                                                                                                                                                                                                                                                                                                                                                    Let’s see if we can break it!   \n",
       "2                                                                                                                                                                                                                                                                                                                                                                                                                                                                                                                                                                                                       Super cool! How is this not popular? Sucks that my gpu has only 2 GB vram.   \n",
       "3     As far as I know, some companies have pretty much perfected voice cloning already, but decided against publishing software (I think it was Adobe with some kind of \"voice photoshop\"). You could do some really terrible stuff with it. From a basic security concern to outright criminiality, there's a wide range of uses for this kind of application. If you have seen what deep fakes can do, imagine the same stuff but with real voices. Celebrity porn would be the least of our problems.\\n\\nIt's a fascinating technology, and I guess it will become widespread before too long, but I really don't want to be a public speaker in any way when that time comes.   \n",
       "4      upvoted_submission_comments = sorted(\\n        submission.comments, key=lambda x: x.score, reverse=True\\n    )\\n    downvoted_submission_comments = sorted(submission.comments, key=lambda x: x.score)\\n\\nYou shouldn't need to sort the comments twice to get the bottom 5 and top 5. Instead, you could do something like this (some code snipped for brevity):\\n\\n    submission_comments = sorted(submission.comments, key=lambda x: x.score)\\n    for comment in submission_comments[:-6:-1]:\\n        edited_body = edited_body + f\"'{comment.body}',\\n\\n\"\\n    for comment in submission_comments[:5]:\\n        edited_body = edited_body + f\"'{comment.body}',\\n\\n\"   \n",
       "5                                                                                                                                                                                                                                                                                                                                                                                                                                                                                                                                                                                                                                                               \\n ! ;;; &amp; $()   \n",
       "6                                                                                                                                                                                                                                                                                                                                                                                                                                                                                                                                                                                                                  I just updooted the post, but the updoot count didn’t change. 😢   \n",
       "7                                                                                                                                                                                                                                                                                                                                                                                                                                                                                                                                                                                                                                                 damm wish it supported amd GPU's   \n",
       "8                                                                                                                                                                                                                                                                                                                                                                                                                                                                                                                                                                                        I thought they released an official rocm version resently, but haven't checked it out yet   \n",
       "9                                                                                                                                                                                                                                                                                                                                                                                                                                                                                                                                                                                                                                       I don’t know, let’s seen what this can do.   \n",
       "\n",
       "   created_utc  score  \\\n",
       "0   1617843708     11   \n",
       "1   1617746266      8   \n",
       "2   1617831454      8   \n",
       "3   1617835069      6   \n",
       "4   1617746768      6   \n",
       "5   1617747233      5   \n",
       "6   1617747600      5   \n",
       "7   1617834969      5   \n",
       "8   1617836251      4   \n",
       "9   1617746103      4   \n",
       "\n",
       "                                                                                               permalink  \\\n",
       "0  https://reddit.com/r/Python/comments/mmgbin/whats_your_opinion_on_changing_elif_into_else_if/gtr8dk3/   \n",
       "1    https://reddit.com/r/Python/comments/mlmx1k/this_is_a_living_reddit_post_see_the_post_body/gtmc42e/   \n",
       "2                                 https://reddit.com/r/Python/comments/mmarp8/voice_cloning_app/gtqjxv2/   \n",
       "3                                 https://reddit.com/r/Python/comments/mmarp8/voice_cloning_app/gtqrh1h/   \n",
       "4    https://reddit.com/r/Python/comments/mlmx1k/this_is_a_living_reddit_post_see_the_post_body/gtmd5ed/   \n",
       "5    https://reddit.com/r/Python/comments/mlmx1k/this_is_a_living_reddit_post_see_the_post_body/gtme2wl/   \n",
       "6    https://reddit.com/r/Python/comments/mlmx1k/this_is_a_living_reddit_post_see_the_post_body/gtmet3d/   \n",
       "7                                 https://reddit.com/r/Python/comments/mmarp8/voice_cloning_app/gtqr9t7/   \n",
       "8                                 https://reddit.com/r/Python/comments/mmarp8/voice_cloning_app/gtqtto8/   \n",
       "9    https://reddit.com/r/Python/comments/mlmx1k/this_is_a_living_reddit_post_see_the_post_body/gtmbrvt/   \n",
       "\n",
       "   sentiment_polarity  sentiment_subjectivity sentiment  \\\n",
       "0           -0.350000                0.600000  negative   \n",
       "1            0.000000                0.000000  positive   \n",
       "2            0.034167                0.703333  positive   \n",
       "3            0.087500                0.516667  positive   \n",
       "4            0.500000                0.500000  positive   \n",
       "5            0.000000                0.000000  positive   \n",
       "6            0.000000                0.000000  positive   \n",
       "7            0.000000                0.000000  positive   \n",
       "8            0.000000                0.000000  positive   \n",
       "9            0.000000                0.000000  positive   \n",
       "\n",
       "                                               preview                date  \n",
       "0   No. All keywords in Python contain no spaces. Ther 2021-04-08 01:01:48  \n",
       "1                        Let’s see if we can break it! 2021-04-06 21:57:46  \n",
       "2   Super cool! How is this not popular? Sucks that my 2021-04-07 21:37:34  \n",
       "3   As far as I know, some companies have pretty much  2021-04-07 22:37:49  \n",
       "4      upvoted_submission_comments = sorted(\\n         2021-04-06 22:06:08  \n",
       "5                                   \\n ! ;;; &amp; $() 2021-04-06 22:13:53  \n",
       "6   I just updooted the post, but the updoot count did 2021-04-06 22:20:00  \n",
       "7                     damm wish it supported amd GPU's 2021-04-07 22:36:09  \n",
       "8   I thought they released an official rocm version r 2021-04-07 22:57:31  \n",
       "9           I don’t know, let’s seen what this can do. 2021-04-06 21:55:03  "
      ]
     },
     "execution_count": 27,
     "metadata": {},
     "output_type": "execute_result"
    }
   ],
   "source": [
    "\n",
    "\n",
    "df[\"sentiment_polarity\"] = df.apply(lambda row: textblob.TextBlob(row[\"body\"]).sentiment.polarity, axis=1)\n",
    "\n",
    "# column with sentiment subjectivity\n",
    "df[\"sentiment_subjectivity\"] = df.apply(lambda row: textblob.TextBlob(row[\"body\"]).sentiment.subjectivity, axis=1)\n",
    "\n",
    "# column with 'positive' or 'negative' depending on sentiment_polarity\n",
    "df[\"sentiment\"] = df.apply(lambda row: \"positive\" if row[\"sentiment_polarity\"] >= 0 else \"negative\", axis=1)\n",
    "\n",
    "# column with a text preview that shows the first 50 characters\n",
    "df[\"preview\"] = df[\"body\"].str[0:50]\n",
    "\n",
    "#created_utc parameter and tranform it into a datetime column\n",
    "df[\"date\"] = pd.to_datetime(df['created_utc'],unit='s')\n",
    "\n",
    "df.head(10)"
   ]
  },
  {
   "cell_type": "code",
   "execution_count": 25,
   "metadata": {
    "colab": {
     "base_uri": "https://localhost:8080/",
     "height": 542
    },
    "id": "YKnf1gjB9PCx",
    "outputId": "7a82bf13-9cca-47ad-fe9c-f5497c53fa4d"
   },
   "outputs": [
    {
     "data": {
      "text/html": [
       "<html>\n",
       "<head><meta charset=\"utf-8\" /></head>\n",
       "<body>\n",
       "    <div>            <script src=\"https://cdnjs.cloudflare.com/ajax/libs/mathjax/2.7.5/MathJax.js?config=TeX-AMS-MML_SVG\"></script><script type=\"text/javascript\">if (window.MathJax) {MathJax.Hub.Config({SVG: {font: \"STIX-Web\"}});}</script>                <script type=\"text/javascript\">window.PlotlyConfig = {MathJaxConfig: 'local'};</script>\n",
       "        <script src=\"https://cdn.plot.ly/plotly-latest.min.js\"></script>                <div id=\"c76cc87c-8c34-4695-ac10-212690d41567\" class=\"plotly-graph-div\" style=\"height:525px; width:100%;\"></div>            <script type=\"text/javascript\">                                    window.PLOTLYENV=window.PLOTLYENV || {};                                    if (document.getElementById(\"c76cc87c-8c34-4695-ac10-212690d41567\")) {                    Plotly.newPlot(                        \"c76cc87c-8c34-4695-ac10-212690d41567\",                        [{\"customdata\": [[\"Zomunieo\", \"https://reddit.com/r/Python/comments/mmgbin/whats_your_opinion_on_changing_elif_into_else_if/gtr8dk3/\", \"No. All keywords in Python contain no spaces. Ther\"], [\"wweber\", \"https://reddit.com/r/Python/comments/mm3kto/pycharm_20211_released/gtqkrio/\", \"Yeah I can definitely see this having its uses. E.\"], [\"Benjamino64\", \"https://reddit.com/r/Python/comments/mmarp8/voice_cloning_app/gtqt392/\", \"&gt; damm wish it supported amd GPU's \\n\\nMe too! Un\"], [\"cruel0r\", \"https://reddit.com/r/Python/comments/mm3kto/pycharm_20211_released/gtqaa3v/\", \"This has to be a late april fools joke with the vo\"], [\"neutron_bar\", \"https://reddit.com/r/Python/comments/mm59oz/modern_gui_by_python_is_tkinter_is_the_only_option/gtqfau6/\", \"Qt is commercial in that you can pay for support i\"], [\"BigMac3k\", \"https://reddit.com/r/Python/comments/mlmx1k/this_is_a_living_reddit_post_see_the_post_body/gtmeb7a/\", \"Hmm XSS attack failed!\"], [\"InitialHuman101\", \"https://reddit.com/r/Python/comments/mm59oz/modern_gui_by_python_is_tkinter_is_the_only_option/gtqvths/\", \"I agree. I've had quite some experience with it an\"], [\"Benjamino64\", \"https://reddit.com/r/Python/comments/mmarp8/voice_cloning_app/gtr06em/\", \"The dataset builder currently does not but I may a\"], [\"maxinstuff\", \"https://reddit.com/r/Python/comments/mmgbin/whats_your_opinion_on_changing_elif_into_else_if/gtr83ls/\", \"You mean you don\\u2019t want your Python code to be ent\"], [\"BigMac3k\", \"https://reddit.com/r/Python/comments/mlmx1k/this_is_a_living_reddit_post_see_the_post_body/gtmex6e/\", \"Hmm, give it a sec\"], [\"O2XXX\", \"https://reddit.com/r/Python/comments/mmarp8/voice_cloning_app/gtqtwcs/\", \"Yeah there was a CNN clip about how far behind pho\"], [\"akat_walks\", \"https://reddit.com/r/Python/comments/mmgbin/whats_your_opinion_on_changing_elif_into_else_if/gtrak53/\", \"no thanks\"], [\"JARC_97\", \"https://reddit.com/r/Python/comments/mmarp8/voice_cloning_app/gtquke0/\", \"What about this: https://pytorch.org/blog/pytorch-\"], [\"teerre\", \"https://reddit.com/r/Python/comments/mla0l3/pyfactor_update_04_visualise_source_code/gtkcbn0/\", \"What is exactly one supposed to look for in a grap\"], [\"turtle4499\", \"https://reddit.com/r/Python/comments/ml7v05/im_a_junior_java_ee_developer_thinking_about/gtkf603/\", \"Just an FYI python is probably used in a few banks\"], [\"LoveLaika237\", \"https://reddit.com/r/Python/comments/mjkjuw/sunday_daily_thread_whats_everyone_working_on/gtmak8d/\", \"I found [robin\\\\_stocks](https://github.com/jmferna\"], [\"1rustySnake\", \"https://reddit.com/r/Python/comments/mks48n/i_made_a_random_password_generator_in_python/gtmheq6/\", \"Knowing the wrong way still feels like progressing\"], [\"dodslaser\", \"https://reddit.com/r/Python/comments/mkpifc/how_i_calculated_the_1000000th_fibonacci_number/gtlvvyq/\", \"Ugh, you're right. I have a bad habit of using `tr\"], [\"1Blademaster\", \"https://reddit.com/r/Python/comments/mkpifc/how_i_calculated_the_1000000th_fibonacci_number/gtjoowl/\", \"For this I used excel and this little script:\\n\\n   \"]], \"hovertemplate\": \"sentiment=negative<br>Date comment was posted=%{x}<br>Comment positivity=%{y}<br>score=%{marker.size}<br>author=%{customdata[0]}<br>permalink=%{customdata[1]}<br>preview=%{customdata[2]}<extra></extra>\", \"legendgroup\": \"negative\", \"marker\": {\"color\": \"lightseagreen\", \"size\": [11, 4, 3, 3, 3, 3, 2, 2, 2, 2, 2, 2, 2, 1, 1, 1, 1, 1, 1], \"sizemode\": \"area\", \"sizeref\": 0.0275, \"symbol\": \"circle\"}, \"mode\": \"markers\", \"name\": \"negative\", \"orientation\": \"v\", \"showlegend\": true, \"type\": \"scatter\", \"x\": [\"2021-04-08T01:01:48\", \"2021-04-07T21:43:54\", \"2021-04-07T22:51:22\", \"2021-04-07T20:25:27\", \"2021-04-07T21:02:14\", \"2021-04-06T22:15:49\", \"2021-04-07T23:14:24\", \"2021-04-07T23:51:49\", \"2021-04-08T00:59:23\", \"2021-04-06T22:20:57\", \"2021-04-07T22:58:09\", \"2021-04-08T01:20:17\", \"2021-04-07T23:03:46\", \"2021-04-06T13:01:19\", \"2021-04-06T13:25:55\", \"2021-04-06T21:45:24\", \"2021-04-06T22:42:03\", \"2021-04-06T19:56:06\", \"2021-04-06T07:38:46\"], \"xaxis\": \"x\", \"y\": [-0.35, -0.019999999999999997, -0.16666666666666666, -0.3, -0.06666666666666667, -0.625, -0.011666666666666676, -0.25, -0.15625, -0.1, -0.04427083333333334, -0.1, -0.16666666666666666, -0.20845238095238097, -0.007500000000000007, -0.0666666666666667, -0.5, -0.13809523809523805, -0.1], \"yaxis\": \"y\"}, {\"customdata\": [[\"BigMac3k\", \"https://reddit.com/r/Python/comments/mlmx1k/this_is_a_living_reddit_post_see_the_post_body/gtmc42e/\", \"Let\\u2019s see if we can break it!\"], [\"tahafyto\", \"https://reddit.com/r/Python/comments/mmarp8/voice_cloning_app/gtqjxv2/\", \"Super cool! How is this not popular? Sucks that my\"], [\"HartzToTheIV\", \"https://reddit.com/r/Python/comments/mmarp8/voice_cloning_app/gtqrh1h/\", \"As far as I know, some companies have pretty much \"], [\"17291\", \"https://reddit.com/r/Python/comments/mlmx1k/this_is_a_living_reddit_post_see_the_post_body/gtmd5ed/\", \"    upvoted_submission_comments = sorted(\\n        \"], [\"swarm_mazer\", \"https://reddit.com/r/Python/comments/mlmx1k/this_is_a_living_reddit_post_see_the_post_body/gtme2wl/\", \"\\\\n ! ;;; &amp; $()\"], [\"joeyGibson\", \"https://reddit.com/r/Python/comments/mlmx1k/this_is_a_living_reddit_post_see_the_post_body/gtmet3d/\", \"I just updooted the post, but the updoot count did\"], [\"mightymander\", \"https://reddit.com/r/Python/comments/mmarp8/voice_cloning_app/gtqr9t7/\", \"damm wish it supported amd GPU's\"], [\"stargazer_w\", \"https://reddit.com/r/Python/comments/mmarp8/voice_cloning_app/gtqtto8/\", \"I thought they released an official rocm version r\"], [\"delasislas\", \"https://reddit.com/r/Python/comments/mlmx1k/this_is_a_living_reddit_post_see_the_post_body/gtmbrvt/\", \"I don\\u2019t know, let\\u2019s seen what this can do.\"], [\"space_wiener\", \"https://reddit.com/r/Python/comments/mm59oz/modern_gui_by_python_is_tkinter_is_the_only_option/gtqri85/\", \"Pysimplegui is super easy to use as well.\"], [\"randomlyCoding\", \"https://reddit.com/r/Python/comments/mmarp8/voice_cloning_app/gtqv1kb/\", \"I've been looking for something like this for a wh\"], [\"molivo10\", \"https://reddit.com/r/Python/comments/mm3kto/pycharm_20211_released/gtqz8tj/\", \"i like pycharm but they keep adding bloat and not \"], [\"delasislas\", \"https://reddit.com/r/Python/comments/mmgbin/whats_your_opinion_on_changing_elif_into_else_if/gtr81tj/\", \"I personally don\\u2019t understand the point of elif. I\"], [\"energybased\", \"https://reddit.com/r/Python/comments/mm3kto/pycharm_20211_released/gtqqblq/\", \"The shared coding sessions are a good idea.  The v\"], [\"delasislas\", \"https://reddit.com/r/Python/comments/mlmx1k/this_is_a_living_reddit_post_see_the_post_body/gtmby0f/\", \"That was a pretty quick update. How fast is this t\"], [\"BigMac3k\", \"https://reddit.com/r/Python/comments/mlmx1k/this_is_a_living_reddit_post_see_the_post_body/gtmbuzb/\", \"Hiya, check out the code to do this yourself here:\"], [\"17291\", \"https://reddit.com/r/Python/comments/mlmx1k/this_is_a_living_reddit_post_see_the_post_body/gtmclqs/\", \"I think that was because initially there were so f\"], [\"BigMac3k\", \"https://reddit.com/r/Python/comments/mlmx1k/this_is_a_living_reddit_post_see_the_post_body/gtmcwov/\", \"I removed the downvoting display for now. It was a\"], [\"BigMac3k\", \"https://reddit.com/r/Python/comments/mlmx1k/this_is_a_living_reddit_post_see_the_post_body/gtmeim6/\", \"If you make your comment bold/italics etc it shoul\"], [\"BigMac3k\", \"https://reddit.com/r/Python/comments/mlmx1k/this_is_a_living_reddit_post_see_the_post_body/gtmc271/\", \"Check out the source! It\\u2019s about 15 secs\"], [\"Veganic1\", \"https://reddit.com/r/Python/comments/mm3kto/pycharm_20211_released/gtqctqm/\", \"No one should be downvoted this much after putting\"], [\"stanislavb\", \"https://reddit.com/r/Python/comments/mmf8ht/awesome_python_a_curated_list_of_awesome_python/gtr0c1y/\", \"Hey, mates, I showcased \\\"Awesome Python\\\" 4 years a\"], [\"i-d-p\", \"https://reddit.com/r/Python/comments/mm59oz/modern_gui_by_python_is_tkinter_is_the_only_option/gtr0czw/\", \"Both Qt for Python and PyQt can be licensed commer\"], [\"talmadgeMagooliger\", \"https://reddit.com/r/Python/comments/mmarp8/voice_cloning_app/gtqrs73/\", \"This is awesome mate! Thanks for sharing!\"], [\"LantumoMatrixer\", \"https://reddit.com/r/Python/comments/mlakqe/how_to_debug_your_code_mindset_process_and_tools/gtqqcui/\", \"Important topic because many beginners neglect tha\"], [\"talmadgeMagooliger\", \"https://reddit.com/r/Python/comments/mmarp8/voice_cloning_app/gtqqffx/\", \"[Fast.ai](https://Fast.ai) recommends using google\"], [\"Benjamino64\", \"https://reddit.com/r/Python/comments/mmarp8/voice_cloning_app/gtqsxwr/\", \"&gt; Super cool! How is this not popular? Sucks th\"], [\"Benjamino64\", \"https://reddit.com/r/Python/comments/mmarp8/voice_cloning_app/gtqzlsl/\", \"Oh wow, I'll have to look in that. Would love to s\"], [\"tippytoes69\", \"https://reddit.com/r/Python/comments/mmarp8/voice_cloning_app/gtr66er/\", \"Could this work with someone who has passed away i\"], [\"delasislas\", \"https://reddit.com/r/Python/comments/mmgbin/whats_your_opinion_on_changing_elif_into_else_if/gtr9mw4/\", \"Could we do else_if? Or elseif?\"], [\"tkarabela_\", \"https://reddit.com/r/Python/comments/mm3kto/pycharm_20211_released/gtqg4y2/\", \"Nice to see WSL support getting improved! :) When \"], [\"pythonHelperBot\", \"https://reddit.com/r/Python/comments/mmc9js/how_do_i_copy_information_from_a_website/gtqhr2c/\", \"Hello! I'm a bot!\\n\\nIt looks to me like your post m\"], [\"gfranxman\", \"https://reddit.com/r/Python/comments/mlmx1k/this_is_a_living_reddit_post_see_the_post_body/gtmcqvx/\", \"Nice!\"], [\"delasislas\", \"https://reddit.com/r/Python/comments/mlmx1k/this_is_a_living_reddit_post_see_the_post_body/gtmcewz/\", \"Here. Let me downvote your post.\"], [\"Citrine86\", \"https://reddit.com/r/Python/comments/mlubxe/udemy_is_offering_free_online_course_with_coupon/gtqn86e/\", \"I would of thought by 11:59pm today, but the pytho\"], [\"dspy11\", \"https://reddit.com/r/Python/comments/mmarp8/voice_cloning_app/gtqvkvo/\", \"This is great! Kudos\"], [\"phizphizphiz\", \"https://reddit.com/r/Python/comments/mm9pl3/is_python_good_fot_web_development_backend_if_it/gtq7tyi/\", \"If I had to build a website without using a \\\"frame\"], [\"Random_182f2565\", \"https://reddit.com/r/Python/comments/mmarp8/voice_cloning_app/gtqwam5/\", \"Whoa, awesome, thank you.\\n\\nEdit\\n\\nDoes it work with\"], [\"WanTruSauce\", \"https://reddit.com/r/Python/comments/mkhpu1/songpool_a_place_to_rate_how_good_and_bad_others/gtk0ejk/\", \"Sorry for not responding to you sooner!\\n\\nWhen I fi\"], [\"consistentcardio\", \"https://reddit.com/r/Python/comments/mkpifc/how_i_calculated_the_1000000th_fibonacci_number/gtk3at1/\", \"As a beginner, this is so so so so interesting\"], [\"davecrist\", \"https://reddit.com/r/Python/comments/mkw72m/abcvio_a_free_super_simple_super_powerful_online/gtk6jfv/\", \"It\\u2019s a cool idea but the demo pdf doesn\\u2019t render o\"], [\"Periodicmeow\", \"https://reddit.com/r/Python/comments/mkpifc/how_i_calculated_the_1000000th_fibonacci_number/gtk8wze/\", \"Very nice! This looks similar to what I do at work\"], [\"its2ez4me24get\", \"https://reddit.com/r/Python/comments/mla0l3/pyfactor_update_04_visualise_source_code/gtk8z36/\", \"Looks like this is a great update.\"], [\"2JCeI56nZ4zxEuEU6j0g\", \"https://reddit.com/r/Python/comments/mkw72m/abcvio_a_free_super_simple_super_powerful_online/gtkdf7i/\", \"It's still in beta, and it works fine on my iPhone\"], [\"AutoModerator\", \"https://reddit.com/r/Python/comments/mlbty0/minidom_how_to_validate_that_xml_tag_is_empty/gtkghtd/\", \"Hi there, from the /r/Python mods.\\n\\nWe have remove\"], [\"zurtex\", \"https://reddit.com/r/Python/comments/ml7v05/im_a_junior_java_ee_developer_thinking_about/gtkg5ab/\", \"Python jobs in the corporate world tend to be more\"], [\"qzwqz\", \"https://reddit.com/r/Python/comments/ml7v05/im_a_junior_java_ee_developer_thinking_about/gtjyou2/\", \"This is my experience, I'm not sure how true this \"], [\"joshinshaker_vidz\", \"https://reddit.com/r/Python/comments/mlb091/saveddit_bulk_downloader_for_subreddits/gtki6sg/\", \"Cool project! Although personally, I would've gone\"], [\"anorak99\", \"https://reddit.com/r/Python/comments/mlbtv1/made_a_crude_ray_tracer_in_python_spoiler_it_is_a/gtkiyyd/\", \"That's impressive. How long have you been doing Py\"], [\"AutoModerator\", \"https://reddit.com/r/Python/comments/mlkppp/processing_large_files_through_unix_pipeline_in/gtlyw7a/\", \"Hi there, from the /r/Python mods.\\n\\nWe require a t\"], [\"jeffrey_f\", \"https://reddit.com/r/Python/comments/mlks0p/my_really_bad_but_functional_office_signature/gtm5so2/\", \"Functional? Yes \\n\\nDoes the job: Yes\\n\\nA fifth grade\"], [\"AutoModerator\", \"https://reddit.com/r/Python/comments/mlmzul/automate_facebook_page_posts_and_ayrshare/gtmc0ul/\", \"Hi there, from the /r/Python mods.\\n\\nWe have remove\"], [\"BigMac3k\", \"https://reddit.com/r/Python/comments/mlmx1k/this_is_a_living_reddit_post_see_the_post_body/gtmdxdr/\", \"Good point! Thanks\"], [\"delasislas\", \"https://reddit.com/r/Python/comments/mlmx1k/this_is_a_living_reddit_post_see_the_post_body/gtmcs7q/\", \"Might not have enough posts to get enough downvote\"], [\"spekkje\", \"https://reddit.com/r/Python/comments/mlmx1k/this_is_a_living_reddit_post_see_the_post_body/gtmczgk/\", \"Ahh that sounds logic.\"], [\"BigMac3k\", \"https://reddit.com/r/Python/comments/mlmx1k/this_is_a_living_reddit_post_see_the_post_body/gtmkvte/\", \"No need to wonder \\n\\nhttps://github.com/MaciejKrzys\"], [\"BigMac3k\", \"https://reddit.com/r/Python/comments/mlmx1k/this_is_a_living_reddit_post_see_the_post_body/gtmfxde/\", \"Hiya\"], [\"AidGli\", \"https://reddit.com/r/Python/comments/mlb091/saveddit_bulk_downloader_for_subreddits/gtmj2b5/\", \"Hey, just so you know your reddit client informati\"], [\"eurekabach\", \"https://reddit.com/r/Python/comments/mlmgkl/enumerate_a_really_simple_tool_that_you_arent/gtmljae/\", \"I only came to learn what enumerators were when I \"], [\"p_ranav\", \"https://reddit.com/r/Python/comments/mlb091/saveddit_bulk_downloader_for_subreddits/gtmm87j/\", \"Thanks. Those credentials won't work anymore so I \"], [\"BigMac3k\", \"https://reddit.com/r/Python/comments/mlmx1k/this_is_a_living_reddit_post_see_the_post_body/gtmjho3/\", \"Feel free to dm me whenever if you have questions.\"], [\"the_timezone_bot\", \"https://reddit.com/r/Python/comments/mlof5q/latest_innovations_with_gridai_and_pytorch/gtmkd9z/\", \"11 am ET happens when this comment is 15 hours and\"], [\"BigMac3k\", \"https://reddit.com/r/Python/comments/mlmx1k/this_is_a_living_reddit_post_see_the_post_body/gtmmws5/\", \"Witaj - Niech probuja! To tylko zabawa \\ud83d\\ude0a\"], [\"IAmKindOfCreative\", \"https://reddit.com/r/Python/comments/mlc735/career_timeline_help/gtkswi4/\", \"Hello there,\\r\\n\\r\\nWe've removed your post since it a\"], [\"AutoModerator\", \"https://reddit.com/r/Python/comments/mldq5c/cloning_a_project_from_github_that_has_a/gtkrvyy/\", \"Hi there, from the /r/Python mods.\\n\\nWe have remove\"], [\"IAmKindOfCreative\", \"https://reddit.com/r/Python/comments/ml0tt6/best_way_to_compare_data/gtkskao/\", \"Hi there, from the /r/Python mods.\\r\\n\\r\\nWe have remo\"], [\"AutoModerator\", \"https://reddit.com/r/Python/comments/mlh2ai/the_discord_module_does_not_appear_to_be/gtlc75j/\", \"Hi there, from the /r/Python mods.\\n\\nWe have remove\"], [\"IAmKindOfCreative\", \"https://reddit.com/r/Python/comments/mlh4a4/how_to_run_an_external_program_in_python_and/gtlcpe7/\", \"Hi there, from the /r/Python mods.\\r\\n\\r\\nWe have remo\"], [\"[deleted]\", \"https://reddit.com/r/Python/comments/mlh4a4/how_to_run_an_external_program_in_python_and/gtlco4y/\", \"[deleted]\"], [\"iximiuz\", \"https://reddit.com/r/Python/comments/kpn5ig/from_callbacks_to_promises_from_promises_to/gtlezcm/\", \"You are always welcome!\"], [\"AutoModerator\", \"https://reddit.com/r/Python/comments/mlhe1s/issues_with_python/gtlea2c/\", \"Hi there, from the /r/Python mods.\\n\\nWe have remove\"], [\"Hdjdieidneywuosnnv\", \"https://reddit.com/r/Python/comments/lj23zh/which_gui_framework_do_youwould_you_use_for_which/gtlizzz/\", \"Your conflicted because you haven't read/studied t\"], [\"randomlyCoding\", \"https://reddit.com/r/Python/comments/mlb091/saveddit_bulk_downloader_for_subreddits/gtllxi0/\", \"You have shared your credentials in the _download \"], [\"IAmKindOfCreative\", \"https://reddit.com/r/Python/comments/mlit2u/key_elements_to_become_a_developer/gtlns80/\", \"Your post was removed for violating Rule #2. All p\"], [\"HomeTahnHero\", \"https://reddit.com/r/Python/comments/m3hxzd/do_you_use_the_template_method_and_bridge_design/gtlrmc3/\", \"Honestly, most of the time it\\u2019s a style thing. Bro\"], [\"programmershirts\", \"https://reddit.com/r/Python/comments/mlbo2m/i_am_excited_to_share_my_9th_published_book/gtlv70y/\", \"Nice! Recently I made a script with watchdog and p\"], [\"bigjumper10\", \"https://reddit.com/r/Python/comments/jodgbd/deploying_django_to_google_cloud_platform_compute/gtlvgg9/\", \"Hi,this tutorial works for me! Thanks a lot. But n\"], [\"iamaperson3133\", \"https://reddit.com/r/Python/comments/mjyf8b/ctrlf_on_youtube_videos/gtlw11e/\", \"You can probably reuse a lot of the code on the br\"], [\"ArabicLawrence\", \"https://reddit.com/r/Python/comments/miqt0d/what_did_you_guys_automate_in_your_life/gtjqm8x/\", \"Right now I pull data from Mtg Goldfish, AetherHub\"], [\"1Blademaster\", \"https://reddit.com/r/Python/comments/mkpifc/how_i_calculated_the_1000000th_fibonacci_number/gtjok66/\", \"Thank you!\"], [\"Plankton-Fun\", \"https://reddit.com/r/Python/comments/miqt0d/what_did_you_guys_automate_in_your_life/gtjq6rl/\", \"My favorite CS club at my university went fully on\"]], \"hovertemplate\": \"sentiment=positive<br>Date comment was posted=%{x}<br>Comment positivity=%{y}<br>score=%{marker.size}<br>author=%{customdata[0]}<br>permalink=%{customdata[1]}<br>preview=%{customdata[2]}<extra></extra>\", \"legendgroup\": \"positive\", \"marker\": {\"color\": \"indianred\", \"size\": [8, 8, 6, 6, 5, 5, 5, 4, 4, 4, 3, 3, 3, 3, 2, 2, 2, 2, 2, 2, 2, 2, 2, 2, 2, 2, 2, 2, 2, 2, 2, 2, 2, 2, 2, 2, 2, 2, 1, 1, 1, 1, 1, 1, 1, 1, 1, 1, 1, 1, 1, 1, 1, 1, 1, 1, 1, 1, 1, 1, 1, 1, 1, 1, 1, 1, 1, 1, 1, 1, 1, 1, 1, 1, 1, 1, 1, 1, 1, 1, 1], \"sizemode\": \"area\", \"sizeref\": 0.0275, \"symbol\": \"circle\"}, \"mode\": \"markers\", \"name\": \"positive\", \"orientation\": \"v\", \"showlegend\": true, \"type\": \"scatter\", \"x\": [\"2021-04-06T21:57:46\", \"2021-04-07T21:37:34\", \"2021-04-07T22:37:49\", \"2021-04-06T22:06:08\", \"2021-04-06T22:13:53\", \"2021-04-06T22:20:00\", \"2021-04-07T22:36:09\", \"2021-04-07T22:57:31\", \"2021-04-06T21:55:03\", \"2021-04-07T22:38:06\", \"2021-04-07T23:07:45\", \"2021-04-07T23:43:42\", \"2021-04-08T00:58:57\", \"2021-04-07T22:28:14\", \"2021-04-06T21:56:25\", \"2021-04-06T21:55:44\", \"2021-04-06T22:01:43\", \"2021-04-06T22:04:10\", \"2021-04-06T22:17:34\", \"2021-04-06T21:57:21\", \"2021-04-07T20:43:59\", \"2021-04-07T23:53:10\", \"2021-04-07T23:53:23\", \"2021-04-07T22:40:26\", \"2021-04-07T22:28:32\", \"2021-04-07T22:29:08\", \"2021-04-07T22:50:07\", \"2021-04-07T23:46:51\", \"2021-04-08T00:43:08\", \"2021-04-08T01:12:30\", \"2021-04-07T21:08:28\", \"2021-04-07T21:20:43\", \"2021-04-06T22:02:52\", \"2021-04-06T22:00:10\", \"2021-04-07T22:03:10\", \"2021-04-07T23:12:21\", \"2021-04-07T20:07:36\", \"2021-04-07T23:18:30\", \"2021-04-06T10:49:33\", \"2021-04-06T11:27:34\", \"2021-04-06T12:04:40\", \"2021-04-06T12:29:16\", \"2021-04-06T12:29:51\", \"2021-04-06T13:11:01\", \"2021-04-06T13:37:06\", \"2021-04-06T13:34:13\", \"2021-04-06T10:24:45\", \"2021-04-06T13:50:58\", \"2021-04-06T13:57:15\", \"2021-04-06T20:17:55\", \"2021-04-06T21:08:17\", \"2021-04-06T21:57:02\", \"2021-04-06T22:12:35\", \"2021-04-06T22:03:10\", \"2021-04-06T22:04:48\", \"2021-04-06T23:11:19\", \"2021-04-06T22:29:25\", \"2021-04-06T22:55:59\", \"2021-04-06T23:16:46\", \"2021-04-06T23:22:21\", \"2021-04-06T22:59:34\", \"2021-04-06T23:06:56\", \"2021-04-06T23:28:06\", \"2021-04-06T15:12:44\", \"2021-04-06T15:05:12\", \"2021-04-06T15:10:11\", \"2021-04-06T17:33:09\", \"2021-04-06T17:36:50\", \"2021-04-06T17:36:35\", \"2021-04-06T17:53:14\", \"2021-04-06T17:48:15\", \"2021-04-06T18:22:34\", \"2021-04-06T18:44:04\", \"2021-04-06T18:57:47\", \"2021-04-06T19:26:10\", \"2021-04-06T19:51:13\", \"2021-04-06T19:53:02\", \"2021-04-06T19:57:07\", \"2021-04-06T08:11:06\", \"2021-04-06T07:36:32\", \"2021-04-06T08:03:46\"], \"xaxis\": \"x\", \"y\": [0.0, 0.03416666666666666, 0.08749999999999998, 0.5, 0.0, 0.0, 0.0, 0.0, 0.0, 0.3833333333333333, 0.11666666666666667, 0.0, 0.16666666666666666, 0.07500000000000002, 0.26111111111111107, 0.43333333333333335, 0.09999999999999999, 0.0, 0.0, 0.0, 0.45, 0.3666666666666667, 0.0, 0.625, 0.45, 0.5, 0.09256628787878787, 0.19999999999999998, 0.0, 0.0, 0.4375, 0.2632783882783883, 0.75, 0.0, 0.2, 1.0, 0.0, 0.5, 0.04314435564435564, 0.5, 0.175, 0.6166666666666667, 0.8, 0.08333333333333334, 0.41805555555555546, 0.20490476190476192, 0.11376811594202899, 0.21875, 0.475, 0.36329966329966334, 0.43999999999999995, 0.41805555555555546, 0.5375, 0.125, 0.0, 0.0, 0.0, 0.375, 0.1, 0.39999999999999997, 0.4, 0.11818181818181818, 0.0, 0.3178571428571429, 0.41805555555555546, 0.4469696969696969, 0.41805555555555546, 0.4469696969696969, 0.0, 1.0, 0.41805555555555546, 0.0, 0.15833333333333333, 0.02500000000000001, 0.13392857142857142, 0.45625, 0.2, 0.22289915966386556, 0.26785714285714285, 0.0, 0.06388888888888888], \"yaxis\": \"y\"}],                        {\"legend\": {\"itemsizing\": \"constant\", \"title\": {\"text\": \"sentiment\"}, \"tracegroupgap\": 0}, \"template\": {\"data\": {\"bar\": [{\"error_x\": {\"color\": \"#2a3f5f\"}, \"error_y\": {\"color\": \"#2a3f5f\"}, \"marker\": {\"line\": {\"color\": \"#E5ECF6\", \"width\": 0.5}}, \"type\": \"bar\"}], \"barpolar\": [{\"marker\": {\"line\": {\"color\": \"#E5ECF6\", \"width\": 0.5}}, \"type\": \"barpolar\"}], \"carpet\": [{\"aaxis\": {\"endlinecolor\": \"#2a3f5f\", \"gridcolor\": \"white\", \"linecolor\": \"white\", \"minorgridcolor\": \"white\", \"startlinecolor\": \"#2a3f5f\"}, \"baxis\": {\"endlinecolor\": \"#2a3f5f\", \"gridcolor\": \"white\", \"linecolor\": \"white\", \"minorgridcolor\": \"white\", \"startlinecolor\": \"#2a3f5f\"}, \"type\": \"carpet\"}], \"choropleth\": [{\"colorbar\": {\"outlinewidth\": 0, \"ticks\": \"\"}, \"type\": \"choropleth\"}], \"contour\": [{\"colorbar\": {\"outlinewidth\": 0, \"ticks\": \"\"}, \"colorscale\": [[0.0, \"#0d0887\"], [0.1111111111111111, \"#46039f\"], [0.2222222222222222, \"#7201a8\"], [0.3333333333333333, \"#9c179e\"], [0.4444444444444444, \"#bd3786\"], [0.5555555555555556, \"#d8576b\"], [0.6666666666666666, \"#ed7953\"], [0.7777777777777778, \"#fb9f3a\"], [0.8888888888888888, \"#fdca26\"], [1.0, \"#f0f921\"]], \"type\": \"contour\"}], \"contourcarpet\": [{\"colorbar\": {\"outlinewidth\": 0, \"ticks\": \"\"}, \"type\": \"contourcarpet\"}], \"heatmap\": [{\"colorbar\": {\"outlinewidth\": 0, \"ticks\": \"\"}, \"colorscale\": [[0.0, \"#0d0887\"], [0.1111111111111111, \"#46039f\"], [0.2222222222222222, \"#7201a8\"], [0.3333333333333333, \"#9c179e\"], [0.4444444444444444, \"#bd3786\"], [0.5555555555555556, \"#d8576b\"], [0.6666666666666666, \"#ed7953\"], [0.7777777777777778, \"#fb9f3a\"], [0.8888888888888888, \"#fdca26\"], [1.0, \"#f0f921\"]], \"type\": \"heatmap\"}], \"heatmapgl\": [{\"colorbar\": {\"outlinewidth\": 0, \"ticks\": \"\"}, \"colorscale\": [[0.0, \"#0d0887\"], [0.1111111111111111, \"#46039f\"], [0.2222222222222222, \"#7201a8\"], [0.3333333333333333, \"#9c179e\"], [0.4444444444444444, \"#bd3786\"], [0.5555555555555556, \"#d8576b\"], [0.6666666666666666, \"#ed7953\"], [0.7777777777777778, \"#fb9f3a\"], [0.8888888888888888, \"#fdca26\"], [1.0, \"#f0f921\"]], \"type\": \"heatmapgl\"}], \"histogram\": [{\"marker\": {\"colorbar\": {\"outlinewidth\": 0, \"ticks\": \"\"}}, \"type\": \"histogram\"}], \"histogram2d\": [{\"colorbar\": {\"outlinewidth\": 0, \"ticks\": \"\"}, \"colorscale\": [[0.0, \"#0d0887\"], [0.1111111111111111, \"#46039f\"], [0.2222222222222222, \"#7201a8\"], [0.3333333333333333, \"#9c179e\"], [0.4444444444444444, \"#bd3786\"], [0.5555555555555556, \"#d8576b\"], [0.6666666666666666, \"#ed7953\"], [0.7777777777777778, \"#fb9f3a\"], [0.8888888888888888, \"#fdca26\"], [1.0, \"#f0f921\"]], \"type\": \"histogram2d\"}], \"histogram2dcontour\": [{\"colorbar\": {\"outlinewidth\": 0, \"ticks\": \"\"}, \"colorscale\": [[0.0, \"#0d0887\"], [0.1111111111111111, \"#46039f\"], [0.2222222222222222, \"#7201a8\"], [0.3333333333333333, \"#9c179e\"], [0.4444444444444444, \"#bd3786\"], [0.5555555555555556, \"#d8576b\"], [0.6666666666666666, \"#ed7953\"], [0.7777777777777778, \"#fb9f3a\"], [0.8888888888888888, \"#fdca26\"], [1.0, \"#f0f921\"]], \"type\": \"histogram2dcontour\"}], \"mesh3d\": [{\"colorbar\": {\"outlinewidth\": 0, \"ticks\": \"\"}, \"type\": \"mesh3d\"}], \"parcoords\": [{\"line\": {\"colorbar\": {\"outlinewidth\": 0, \"ticks\": \"\"}}, \"type\": \"parcoords\"}], \"pie\": [{\"automargin\": true, \"type\": \"pie\"}], \"scatter\": [{\"marker\": {\"colorbar\": {\"outlinewidth\": 0, \"ticks\": \"\"}}, \"type\": \"scatter\"}], \"scatter3d\": [{\"line\": {\"colorbar\": {\"outlinewidth\": 0, \"ticks\": \"\"}}, \"marker\": {\"colorbar\": {\"outlinewidth\": 0, \"ticks\": \"\"}}, \"type\": \"scatter3d\"}], \"scattercarpet\": [{\"marker\": {\"colorbar\": {\"outlinewidth\": 0, \"ticks\": \"\"}}, \"type\": \"scattercarpet\"}], \"scattergeo\": [{\"marker\": {\"colorbar\": {\"outlinewidth\": 0, \"ticks\": \"\"}}, \"type\": \"scattergeo\"}], \"scattergl\": [{\"marker\": {\"colorbar\": {\"outlinewidth\": 0, \"ticks\": \"\"}}, \"type\": \"scattergl\"}], \"scattermapbox\": [{\"marker\": {\"colorbar\": {\"outlinewidth\": 0, \"ticks\": \"\"}}, \"type\": \"scattermapbox\"}], \"scatterpolar\": [{\"marker\": {\"colorbar\": {\"outlinewidth\": 0, \"ticks\": \"\"}}, \"type\": \"scatterpolar\"}], \"scatterpolargl\": [{\"marker\": {\"colorbar\": {\"outlinewidth\": 0, \"ticks\": \"\"}}, \"type\": \"scatterpolargl\"}], \"scatterternary\": [{\"marker\": {\"colorbar\": {\"outlinewidth\": 0, \"ticks\": \"\"}}, \"type\": \"scatterternary\"}], \"surface\": [{\"colorbar\": {\"outlinewidth\": 0, \"ticks\": \"\"}, \"colorscale\": [[0.0, \"#0d0887\"], [0.1111111111111111, \"#46039f\"], [0.2222222222222222, \"#7201a8\"], [0.3333333333333333, \"#9c179e\"], [0.4444444444444444, \"#bd3786\"], [0.5555555555555556, \"#d8576b\"], [0.6666666666666666, \"#ed7953\"], [0.7777777777777778, \"#fb9f3a\"], [0.8888888888888888, \"#fdca26\"], [1.0, \"#f0f921\"]], \"type\": \"surface\"}], \"table\": [{\"cells\": {\"fill\": {\"color\": \"#EBF0F8\"}, \"line\": {\"color\": \"white\"}}, \"header\": {\"fill\": {\"color\": \"#C8D4E3\"}, \"line\": {\"color\": \"white\"}}, \"type\": \"table\"}]}, \"layout\": {\"annotationdefaults\": {\"arrowcolor\": \"#2a3f5f\", \"arrowhead\": 0, \"arrowwidth\": 1}, \"autotypenumbers\": \"strict\", \"coloraxis\": {\"colorbar\": {\"outlinewidth\": 0, \"ticks\": \"\"}}, \"colorscale\": {\"diverging\": [[0, \"#8e0152\"], [0.1, \"#c51b7d\"], [0.2, \"#de77ae\"], [0.3, \"#f1b6da\"], [0.4, \"#fde0ef\"], [0.5, \"#f7f7f7\"], [0.6, \"#e6f5d0\"], [0.7, \"#b8e186\"], [0.8, \"#7fbc41\"], [0.9, \"#4d9221\"], [1, \"#276419\"]], \"sequential\": [[0.0, \"#0d0887\"], [0.1111111111111111, \"#46039f\"], [0.2222222222222222, \"#7201a8\"], [0.3333333333333333, \"#9c179e\"], [0.4444444444444444, \"#bd3786\"], [0.5555555555555556, \"#d8576b\"], [0.6666666666666666, \"#ed7953\"], [0.7777777777777778, \"#fb9f3a\"], [0.8888888888888888, \"#fdca26\"], [1.0, \"#f0f921\"]], \"sequentialminus\": [[0.0, \"#0d0887\"], [0.1111111111111111, \"#46039f\"], [0.2222222222222222, \"#7201a8\"], [0.3333333333333333, \"#9c179e\"], [0.4444444444444444, \"#bd3786\"], [0.5555555555555556, \"#d8576b\"], [0.6666666666666666, \"#ed7953\"], [0.7777777777777778, \"#fb9f3a\"], [0.8888888888888888, \"#fdca26\"], [1.0, \"#f0f921\"]]}, \"colorway\": [\"#636efa\", \"#EF553B\", \"#00cc96\", \"#ab63fa\", \"#FFA15A\", \"#19d3f3\", \"#FF6692\", \"#B6E880\", \"#FF97FF\", \"#FECB52\"], \"font\": {\"color\": \"#2a3f5f\"}, \"geo\": {\"bgcolor\": \"white\", \"lakecolor\": \"white\", \"landcolor\": \"#E5ECF6\", \"showlakes\": true, \"showland\": true, \"subunitcolor\": \"white\"}, \"hoverlabel\": {\"align\": \"left\"}, \"hovermode\": \"closest\", \"mapbox\": {\"style\": \"light\"}, \"paper_bgcolor\": \"white\", \"plot_bgcolor\": \"#E5ECF6\", \"polar\": {\"angularaxis\": {\"gridcolor\": \"white\", \"linecolor\": \"white\", \"ticks\": \"\"}, \"bgcolor\": \"#E5ECF6\", \"radialaxis\": {\"gridcolor\": \"white\", \"linecolor\": \"white\", \"ticks\": \"\"}}, \"scene\": {\"xaxis\": {\"backgroundcolor\": \"#E5ECF6\", \"gridcolor\": \"white\", \"gridwidth\": 2, \"linecolor\": \"white\", \"showbackground\": true, \"ticks\": \"\", \"zerolinecolor\": \"white\"}, \"yaxis\": {\"backgroundcolor\": \"#E5ECF6\", \"gridcolor\": \"white\", \"gridwidth\": 2, \"linecolor\": \"white\", \"showbackground\": true, \"ticks\": \"\", \"zerolinecolor\": \"white\"}, \"zaxis\": {\"backgroundcolor\": \"#E5ECF6\", \"gridcolor\": \"white\", \"gridwidth\": 2, \"linecolor\": \"white\", \"showbackground\": true, \"ticks\": \"\", \"zerolinecolor\": \"white\"}}, \"shapedefaults\": {\"line\": {\"color\": \"#2a3f5f\"}}, \"ternary\": {\"aaxis\": {\"gridcolor\": \"white\", \"linecolor\": \"white\", \"ticks\": \"\"}, \"baxis\": {\"gridcolor\": \"white\", \"linecolor\": \"white\", \"ticks\": \"\"}, \"bgcolor\": \"#E5ECF6\", \"caxis\": {\"gridcolor\": \"white\", \"linecolor\": \"white\", \"ticks\": \"\"}}, \"title\": {\"x\": 0.05}, \"xaxis\": {\"automargin\": true, \"gridcolor\": \"white\", \"linecolor\": \"white\", \"ticks\": \"\", \"title\": {\"standoff\": 15}, \"zerolinecolor\": \"white\", \"zerolinewidth\": 2}, \"yaxis\": {\"automargin\": true, \"gridcolor\": \"white\", \"linecolor\": \"white\", \"ticks\": \"\", \"title\": {\"standoff\": 15}, \"zerolinecolor\": \"white\", \"zerolinewidth\": 2}}}, \"title\": {\"text\": \"Comment sentiment in /r/python for the past 48h\"}, \"xaxis\": {\"anchor\": \"y\", \"domain\": [0.0, 1.0], \"title\": {\"text\": \"Date comment was posted\"}}, \"yaxis\": {\"anchor\": \"x\", \"domain\": [0.0, 1.0], \"title\": {\"text\": \"Comment positivity\"}}},                        {\"responsive\": true}                    ).then(function(){\n",
       "                            \n",
       "var gd = document.getElementById('c76cc87c-8c34-4695-ac10-212690d41567');\n",
       "var x = new MutationObserver(function (mutations, observer) {{\n",
       "        var display = window.getComputedStyle(gd).display;\n",
       "        if (!display || display === 'none') {{\n",
       "            console.log([gd, 'removed!']);\n",
       "            Plotly.purge(gd);\n",
       "            observer.disconnect();\n",
       "        }}\n",
       "}});\n",
       "\n",
       "// Listen for the removal of the full notebook cells\n",
       "var notebookContainer = gd.closest('#notebook-container');\n",
       "if (notebookContainer) {{\n",
       "    x.observe(notebookContainer, {childList: true});\n",
       "}}\n",
       "\n",
       "// Listen for the clearing of the current output cell\n",
       "var outputEl = gd.closest('.output');\n",
       "if (outputEl) {{\n",
       "    x.observe(outputEl, {childList: true});\n",
       "}}\n",
       "\n",
       "                        })                };                            </script>        </div>\n",
       "</body>\n",
       "</html>"
      ]
     },
     "metadata": {},
     "output_type": "display_data"
    }
   ],
   "source": [
    "px.scatter(df, x=\"date\", # date on the x axis\n",
    "               y=\"sentiment_polarity\", # sentiment on the y axis\n",
    "               hover_data=[\"author\", \"permalink\", \"preview\"], # data to show on hover\n",
    "               color_discrete_sequence=[\"lightseagreen\", \"indianred\"], # colors to use\n",
    "               color=\"sentiment\", # what should the color depend on?\n",
    "               size=\"score\", # the more votes, the bigger the circle\n",
    "               size_max=20, # not too big\n",
    "               labels={\"sentiment_polarity\": \"Comment positivity\", \"date\": \"Date comment was posted\"}, # axis names\n",
    "               title=f\"Comment sentiment in /r/python for the past 48h\", # title of figure\n",
    "          )"
   ]
  },
  {
   "cell_type": "code",
   "execution_count": null,
   "metadata": {
    "id": "3DDO0WsoCVUq"
   },
   "outputs": [],
   "source": []
  }
 ],
 "metadata": {
  "colab": {
   "name": "DashboardingWithPlotly.ipynb",
   "provenance": []
  },
  "kernelspec": {
   "display_name": "Python 3",
   "language": "python",
   "name": "python3"
  },
  "language_info": {
   "codemirror_mode": {
    "name": "ipython",
    "version": 3
   },
   "file_extension": ".py",
   "mimetype": "text/x-python",
   "name": "python",
   "nbconvert_exporter": "python",
   "pygments_lexer": "ipython3",
   "version": "3.8.5"
  }
 },
 "nbformat": 4,
 "nbformat_minor": 4
}
